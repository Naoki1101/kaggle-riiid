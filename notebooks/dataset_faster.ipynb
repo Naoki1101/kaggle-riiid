{
 "cells": [
  {
   "cell_type": "code",
   "execution_count": 1,
   "metadata": {},
   "outputs": [],
   "source": [
    "import sys\n",
    "import numpy as np\n",
    "import pandas as pd\n",
    "\n",
    "sys.path.append('../src')\n",
    "import const\n",
    "from utils import DataHandler, Timer"
   ]
  },
  {
   "cell_type": "code",
   "execution_count": 2,
   "metadata": {},
   "outputs": [],
   "source": [
    "dh = DataHandler()\n",
    "t = Timer()"
   ]
  },
  {
   "cell_type": "code",
   "execution_count": 3,
   "metadata": {},
   "outputs": [],
   "source": [
    "# train_df = pd.read_csv(const.INPUT_DATA_DIR / 'train.csv', dtype=const.DTYPE, nrows=10**2)\n",
    "\n",
    "questions_df = pd.read_csv('../data/input/questions.csv')\n",
    "questions_df['tags'] = questions_df['tags'].fillna(0)\n",
    "questions_df['tag_list'] = questions_df['tags'].apply(lambda tags: [int(tag) for tag in str(tags).split(' ')])\n",
    "questions_df['tag_list'] = questions_df['tag_list'].apply(lambda x: [188] * (6 - len(x)) + x)\n",
    "q2tg = dict(questions_df[['question_id', 'tag_list']].values)\n",
    "tag_array = np.array(list(questions_df['tag_list'].values))"
   ]
  },
  {
   "cell_type": "code",
   "execution_count": 4,
   "metadata": {
    "scrolled": true
   },
   "outputs": [],
   "source": [
    "seq_list = dh.load('../data/seq10/row_22731.pkl')\n",
    "target_id = seq_list[0]"
   ]
  },
  {
   "cell_type": "code",
   "execution_count": 5,
   "metadata": {},
   "outputs": [
    {
     "name": "stdout",
     "output_type": "stream",
     "text": [
      "CPU times: user 50 µs, sys: 7 µs, total: 57 µs\n",
      "Wall time: 46.5 µs\n"
     ]
    }
   ],
   "source": [
    "%%time\n",
    "difftime = np.array(seq_list[1]) / 60_000.   # ms -> m\n",
    "difftime = np.where(difftime < 0, 300, difftime)\n",
    "difftime = np.log1p(difftime)"
   ]
  },
  {
   "cell_type": "code",
   "execution_count": 6,
   "metadata": {},
   "outputs": [
    {
     "name": "stdout",
     "output_type": "stream",
     "text": [
      "CPU times: user 39 µs, sys: 5 µs, total: 44 µs\n",
      "Wall time: 39.1 µs\n"
     ]
    }
   ],
   "source": [
    "%%time\n",
    "prior_elapsed = np.array(seq_list[2]) / 1_000.\n",
    "prior_elapsed = np.log1p(prior_elapsed)\n",
    "prior_elapsed = np.where(np.isnan(prior_elapsed), np.log1p(21), prior_elapsed)"
   ]
  },
  {
   "cell_type": "code",
   "execution_count": 7,
   "metadata": {},
   "outputs": [],
   "source": [
    "content_id = seq_list[0]\n",
    "exp = seq_list[3]\n",
    "target = seq_list[5]\n",
    "te_content_id = seq_list[6]"
   ]
  },
  {
   "cell_type": "code",
   "execution_count": 8,
   "metadata": {
    "scrolled": true
   },
   "outputs": [
    {
     "name": "stdout",
     "output_type": "stream",
     "text": [
      "CPU times: user 73 µs, sys: 10 µs, total: 83 µs\n",
      "Wall time: 63.4 µs\n"
     ]
    }
   ],
   "source": [
    "%%time\n",
    "avg_u_target = np.zeros(120, dtype=float)\n",
    "start_idx = np.where(content_id > 0)[0][0]\n",
    "ac_latest = target[start_idx:]\n",
    "avg_u_target[start_idx:] = ac_latest.cumsum() / (np.arange(len(ac_latest)) + 1)"
   ]
  },
  {
   "cell_type": "code",
   "execution_count": 9,
   "metadata": {
    "scrolled": true
   },
   "outputs": [
    {
     "name": "stdout",
     "output_type": "stream",
     "text": [
      "CPU times: user 52 µs, sys: 7 µs, total: 59 µs\n",
      "Wall time: 54.1 µs\n"
     ]
    }
   ],
   "source": [
    "%%time\n",
    "\n",
    "exp = np.where(np.isnan(exp), 0, exp)\n",
    "te_content_id = np.where(np.isnan(te_content_id), 0.625164097637492, te_content_id)   # nanmean\n",
    "avg_u_target = np.where(np.isnan(avg_u_target), 0, avg_u_target)\n",
    "num_feat = np.vstack([te_content_id, avg_u_target]).T"
   ]
  },
  {
   "cell_type": "code",
   "execution_count": 10,
   "metadata": {
    "scrolled": true
   },
   "outputs": [
    {
     "name": "stdout",
     "output_type": "stream",
     "text": [
      "CPU times: user 253 µs, sys: 34 µs, total: 287 µs\n",
      "Wall time: 278 µs\n"
     ]
    }
   ],
   "source": [
    "%%time\n",
    "\n",
    "qtg1 = np.zeros((120, 6)) + 188\n",
    "for idx, cid in enumerate(content_id[start_idx:]):   # start_idx = np.where(seq_content_id > 0)[0][0]\n",
    "    qtg1[start_idx + idx, :] = q2tg[cid]"
   ]
  },
  {
   "cell_type": "code",
   "execution_count": 11,
   "metadata": {},
   "outputs": [
    {
     "name": "stdout",
     "output_type": "stream",
     "text": [
      "CPU times: user 223 µs, sys: 0 ns, total: 223 µs\n",
      "Wall time: 214 µs\n"
     ]
    }
   ],
   "source": [
    "%%time\n",
    "\n",
    "qtg2 = np.zeros((120, 6)) + 188\n",
    "tag_seq_list = []\n",
    "for idx, cid in enumerate(content_id[start_idx:]):   # start_idx = np.where(seq_content_id > 0)[0][0]\n",
    "    a.append(q2tg[cid])\n",
    "    \n",
    "qtg2[start_idx:, :] = a"
   ]
  },
  {
   "cell_type": "code",
   "execution_count": 12,
   "metadata": {},
   "outputs": [],
   "source": [
    "b = np.array(list(q2tg.values()))"
   ]
  },
  {
   "cell_type": "code",
   "execution_count": 13,
   "metadata": {
    "scrolled": true
   },
   "outputs": [
    {
     "name": "stdout",
     "output_type": "stream",
     "text": [
      "CPU times: user 105 µs, sys: 0 ns, total: 105 µs\n",
      "Wall time: 75.8 µs\n"
     ]
    }
   ],
   "source": [
    "%%time\n",
    "\n",
    "qtg3 = np.zeros((120, 6)) + 188\n",
    "    \n",
    "qtg3[start_idx:, :] = tag_array[content_id[start_idx:]]"
   ]
  },
  {
   "cell_type": "code",
   "execution_count": 14,
   "metadata": {},
   "outputs": [
    {
     "data": {
      "text/plain": [
       "202.9"
      ]
     },
     "execution_count": 14,
     "metadata": {},
     "output_type": "execute_result"
    }
   ],
   "source": [
    "46.3 + 38.6 + 65.1 + 52.9"
   ]
  }
 ],
 "metadata": {
  "kernelspec": {
   "display_name": "rapids",
   "language": "python",
   "name": "miniconda3-latest"
  },
  "language_info": {
   "codemirror_mode": {
    "name": "ipython",
    "version": 3
   },
   "file_extension": ".py",
   "mimetype": "text/x-python",
   "name": "python",
   "nbconvert_exporter": "python",
   "pygments_lexer": "ipython3",
   "version": "3.7.7"
  }
 },
 "nbformat": 4,
 "nbformat_minor": 4
}
