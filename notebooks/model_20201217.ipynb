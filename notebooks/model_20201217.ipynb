{
 "cells": [
  {
   "cell_type": "code",
   "execution_count": 1,
   "metadata": {},
   "outputs": [],
   "source": [
    "import gc\n",
    "import sys\n",
    "import pickle\n",
    "import random\n",
    "\n",
    "import numpy as np\n",
    "import pandas as pd\n",
    "from pathlib import Path\n",
    "from tqdm.notebook import tqdm\n",
    "from easydict import EasyDict as edict\n",
    "from sklearn.metrics import roc_auc_score\n",
    "from catboost import Pool, CatBoostClassifier\n",
    "\n",
    "sys.path.append('../src')\n",
    "from factory import get_fold\n",
    "from utils import seed_everything, DataHandler, reduce_mem_usage\n",
    "from make_features.feature_utils import TargetEncoding"
   ]
  },
  {
   "cell_type": "code",
   "execution_count": 2,
   "metadata": {},
   "outputs": [],
   "source": [
    "version_name = 'model_20201217_catboost'\n",
    "ver_dir = Path(f'./{version_name}')\n",
    "\n",
    "ver_dir.mkdir(exist_ok=True)\n",
    "\n",
    "train_pickle = '../folds/cv1_train.pickle'\n",
    "valid_pickle = '../folds/cv1_valid.pickle'\n",
    "question_file = '../data/input/questions.csv'\n",
    "lecture_file = '../data/input/lectures.csv'\n",
    "\n",
    "\n",
    "te_cfg = edict({\n",
    "    'name': 'KFold',\n",
    "    'params': {\n",
    "        'n_splits': 5,\n",
    "        'shuffle': True,\n",
    "        'random_state': 0,\n",
    "    },\n",
    "    'split': {\n",
    "        'y': 'user_id',\n",
    "        'groups': None\n",
    "    },\n",
    "    'weight': 'average'\n",
    "})\n",
    "\n",
    "s = 1e-3\n",
    "\n",
    "debug = False\n",
    "\n",
    "dh = DataHandler()\n",
    "seed_everything(2020)"
   ]
  },
  {
   "cell_type": "code",
   "execution_count": 3,
   "metadata": {},
   "outputs": [],
   "source": [
    "def add_loop_feats(df, answered_correctly_sum_user_dict, attempt_content_dict, count_user_dict,\n",
    "                   timestamp_diff3_dict, seq2dec_w7_dict):\n",
    "\n",
    "    answered_correctly_sum_user_array = np.zeros(len(df), dtype=np.int32)\n",
    "    attempt_content_array = np.zeros(len(df), dtype=np.int32)\n",
    "    count_user_array = np.zeros(len(df), dtype=np.int32)\n",
    "    timestamp_diff1_array = np.zeros(len(df), dtype=np.int32)\n",
    "    timestamp_diff2_array = np.zeros(len(df), dtype=np.int32)\n",
    "    timestamp_diff3_array = np.zeros(len(df), dtype=np.int32)\n",
    "    seq2dec_w7_array = np.zeros(len(df), dtype=np.float32)\n",
    "\n",
    "    default_attempt_content_array = np.zeros(13523, dtype=np.int8)\n",
    "#     default_timestamp_diff3_array = np.zeros(3, dtype=np.int64)\n",
    "#     default_seq2dec_w7_array = np.zeros(7, dtype=bool)\n",
    "\n",
    "    for idx, row in enumerate(tqdm(df[['user_id', 'content_id', 'timestamp', 'answered_correctly']].values)):\n",
    "        user_id = row[0]\n",
    "        content_id = row[1]\n",
    "        timestamp = row[2]\n",
    "        target = row[3]\n",
    "\n",
    "        # insert values\n",
    "        answered_correctly_sum_user_array[idx] = answered_correctly_sum_user_dict.setdefault(user_id, 0)\n",
    "        attempt_content_array[idx] = attempt_content_dict.setdefault(user_id, default_attempt_content_array.copy())[content_id]\n",
    "        count_user_array[idx] = count_user_dict.setdefault(user_id, 0)\n",
    "\n",
    "#         timestamp_diff1_array[idx] = timestamp - timestamp_diff3_dict.setdefault(user_id, default_timestamp_diff3_array.copy())[-1]\n",
    "#         timestamp_diff2_array[idx] = timestamp - timestamp_diff3_dict.setdefault(user_id, default_timestamp_diff3_array.copy())[-2]\n",
    "#         timestamp_diff3_array[idx] = timestamp - timestamp_diff3_dict.setdefault(user_id, default_timestamp_diff3_array.copy())[-3]\n",
    "\n",
    "#         seq2dec_feats = seq2dec_w7_dict.setdefault(user_id, default_seq2dec_w7_array.copy())\n",
    "\n",
    "#         for i, f in enumerate(seq2dec_feats[::-1]):\n",
    "#                 seq2dec_w7_array[idx] += f * 10 ** -i\n",
    "\n",
    "        # update values\n",
    "        answered_correctly_sum_user_dict[user_id] += target\n",
    "        attempt_content_dict[user_id][content_id] += 1\n",
    "        count_user_dict[user_id] += 1\n",
    "\n",
    "#         new_timestamp_diff3_array = timestamp_diff3_dict[user_id]\n",
    "#         new_timestamp_diff3_array[0] = new_timestamp_diff3_array[1]\n",
    "#         new_timestamp_diff3_array[1] = new_timestamp_diff3_array[2]\n",
    "#         new_timestamp_diff3_array[2] = timestamp\n",
    "#         timestamp_diff3_dict[user_id] = new_timestamp_diff3_array\n",
    "\n",
    "#         new_seq2dec_w7_array = seq2dec_w7_dict[user_id]\n",
    "#         new_seq2dec_w7_array[0] = new_seq2dec_w7_array[1]\n",
    "#         new_seq2dec_w7_array[1] = new_seq2dec_w7_array[2]\n",
    "#         new_seq2dec_w7_array[2] = new_seq2dec_w7_array[3]\n",
    "#         new_seq2dec_w7_array[3] = new_seq2dec_w7_array[4]\n",
    "#         new_seq2dec_w7_array[4] = new_seq2dec_w7_array[5]\n",
    "#         new_seq2dec_w7_array[5] = new_seq2dec_w7_array[6]\n",
    "#         new_seq2dec_w7_array[6] = (target == 1)\n",
    "#         seq2dec_w7_dict[user_id] = new_seq2dec_w7_array\n",
    "    \n",
    "    drop_cols = [\n",
    "        'row_id', 'timestamp', 'user_id', 'content_id', 'content_type_id', 'user_answer',\n",
    "        'max_time_stamp', 'rand_time_stamp', 'viretual_time_stamp'\n",
    "    ]\n",
    "    df = df.drop(drop_cols, axis=1)\n",
    "    _ = gc.collect()\n",
    "    \n",
    "    user_feats_df = pd.DataFrame({\n",
    "        'answered_correctly_sum_user': answered_correctly_sum_user_array,\n",
    "        'count_user': count_user_array,\n",
    "        'answered_correctly_avg_user': answered_correctly_sum_user_array / (count_user_array + s),\n",
    "        'attempt_content': attempt_content_array,\n",
    "    })\n",
    "    \n",
    "    user_feats_df = reduce_mem_usage(user_feats_df)\n",
    "    df = reduce_mem_usage(df)\n",
    "    \n",
    "    df = pd.concat([df, user_feats_df], axis=1)\n",
    "\n",
    "#     df['answered_correctly_sum_user'] = answered_correctly_sum_user_array\n",
    "#     df['count_user'] = count_user_array\n",
    "#     df['answered_correctly_avg_user'] = answered_correctly_sum_user_array / (count_user_array + s)\n",
    "#     df['attempt_content'] = attempt_content_array\n",
    "#     df['timestamp_diff1'] = timestamp_diff1_array\n",
    "#     df['timestamp_diff2'] = timestamp_diff2_array\n",
    "#     df['timestamp_diff3'] = timestamp_diff3_array\n",
    "#     df['seq2dec_w7'] = seq2dec_w7_array\n",
    "\n",
    "#     for i in range(7):\n",
    "#         count_user_idx = df[df['count_user'] <= i].index\n",
    "\n",
    "#         if i == 0:\n",
    "#             df.loc[count_user_idx, f'timestamp_diff1'] = np.nan\n",
    "#         elif i == 1:\n",
    "#             df.loc[count_user_idx, f'timestamp_diff2'] = np.nan\n",
    "#         elif i == 2:\n",
    "#             df.loc[count_user_idx, f'timestamp_diff3'] = np.nan\n",
    "#         elif i == 6:\n",
    "#             df.loc[count_user_idx, f'seq2dec_w7'] = np.nan\n",
    "\n",
    "    return df\n",
    "\n",
    "\n",
    "def save_pickle(obj, f_name):\n",
    "    with open(f_name, 'wb') as f:\n",
    "        pickle.dump(obj, f)"
   ]
  },
  {
   "cell_type": "markdown",
   "metadata": {},
   "source": [
    "## Load Data"
   ]
  },
  {
   "cell_type": "code",
   "execution_count": 4,
   "metadata": {},
   "outputs": [],
   "source": [
    "train = pd.read_pickle(train_pickle)\n",
    "valid = pd.read_pickle(valid_pickle)\n",
    "\n",
    "if debug:\n",
    "    train = train[:1_000_000]\n",
    "    valid = valid[:10_000]\n",
    "    \n",
    "train = train.loc[train.content_type_id == False].reset_index(drop=True)\n",
    "valid = valid.loc[valid.content_type_id == False].reset_index(drop=True)"
   ]
  },
  {
   "cell_type": "markdown",
   "metadata": {},
   "source": [
    "## Merge Data"
   ]
  },
  {
   "cell_type": "code",
   "execution_count": 5,
   "metadata": {
    "scrolled": true
   },
   "outputs": [],
   "source": [
    "# w2v\n",
    "tag_w2v_max_encoder = dh.load('../data/processed/tag_w2v_max_encoder.pkl')\n",
    "tag_w2v_mean_encoder = dh.load('../data/processed/tag_w2v_mean_encoder.pkl')\n",
    "tag_w2v_median_encoder = dh.load('../data/processed/tag_w2v_median_encoder.pkl')\n",
    "tag_w2v_min_encoder = dh.load('../data/processed/tag_w2v_min_encoder.pkl')\n",
    "\n",
    "content_w2v_df = pd.DataFrame.from_dict(tag_w2v_max_encoder, orient='index').reset_index()\n",
    "content_w2v_df.columns = ['content_id', 'tag_w2v_max']\n",
    "content_w2v_df['tag_w2v_mean'] = content_w2v_df['content_id'].map(tag_w2v_mean_encoder)\n",
    "content_w2v_df['tag_w2v_median'] = content_w2v_df['content_id'].map(tag_w2v_median_encoder)\n",
    "content_w2v_df['tag_w2v_min'] = content_w2v_df['content_id'].map(tag_w2v_min_encoder)\n",
    "\n",
    "for col in content_w2v_df.columns[1:]:\n",
    "    encoder = dict(content_w2v_df[['content_id', col]].values)\n",
    "    train[col] = train['content_id'].map(encoder)\n",
    "    valid[col] = train['content_id'].map(encoder)\n",
    "    \n",
    "    \n",
    "# tsne\n",
    "content_id_tsne_0_encoder = dh.load('../data/processed/tsne_encoder_0.pkl')\n",
    "content_id_tsne_1_encoder = dh.load('../data/processed/tsne_encoder_1.pkl')\n",
    "\n",
    "content_tsne_df = pd.DataFrame.from_dict(content_id_tsne_0_encoder, orient='index').reset_index()\n",
    "content_tsne_df.columns = ['content_id', 'content_id_tsne_0']\n",
    "content_tsne_df['content_id_tsne_1'] = content_tsne_df['content_id'].map(content_id_tsne_1_encoder)\n",
    "\n",
    "for col in content_tsne_df.columns[1:]:\n",
    "    encoder = dict(content_tsne_df[['content_id', col]].values)\n",
    "    train[col] = train['content_id'].map(encoder)\n",
    "    valid[col] = train['content_id'].map(encoder)\n",
    "    \n",
    "    \n",
    "# agg\n",
    "agg_prior_question_elapsed_time_df = pd.read_csv('../data/processed/agg_prior_question_elapsed_time_by_content_id_df.csv')\n",
    "\n",
    "for col in agg_prior_question_elapsed_time_df.columns[1:]:\n",
    "    encoder = dict(agg_prior_question_elapsed_time_df[['content_id', col]].values)\n",
    "    train[col] = train['content_id'].map(encoder)\n",
    "    valid[col] = train['content_id'].map(encoder) \n",
    "\n",
    "\n",
    "# user_lag\n",
    "user_lag_median_encoder = dh.load('../data/processed/user_lag_median_encoder.pkl')\n",
    "\n",
    "user_lag_median_df = pd.DataFrame.from_dict(user_lag_median_encoder, orient='index').reset_index()\n",
    "user_lag_median_df.columns = ['user_id', 'timestamp_lag_median']\n",
    "\n",
    "for col in user_lag_median_df.columns[1:]:\n",
    "    encoder = dict(user_lag_median_df[['user_id', col]].values)\n",
    "    train[col] = train['user_id'].map(encoder)\n",
    "    valid[col] = train['user_id'].map(encoder)\n",
    "    \n",
    "    \n",
    "# Target Encoding\n",
    "te_content_id_encoder = dh.load('../data/processed/te_content_id_by_answered_correctly.pkl')\n",
    "te_content_id_and_attempt_encoder = dh.load('../data/processed/te_content_id_and_attempt_c_by_answered_correctly.pkl')\n",
    "\n",
    "target_encoding_df1 = pd.read_feather('../features/te_content_id_by_answered_correctly_train.feather')\n",
    "target_encoding_df2 = pd.read_feather('../features/te_content_id_and_attempt_c_by_answered_correctly_train.feather')\n",
    "\n",
    "target_encoding_df = pd.concat([target_encoding_df1, target_encoding_df2], axis=1)\n",
    "\n",
    "train_row_id = train['row_id'].values\n",
    "valid_row_id = valid['row_id'].values\n",
    "\n",
    "for col in target_encoding_df.columns:\n",
    "    train[col] = target_encoding_df.loc[train_row_id, col].values\n",
    "    valid[col] = target_encoding_df.loc[valid_row_id, col].values\n",
    "    \n",
    "del target_encoding_df1, target_encoding_df2, target_encoding_df; gc.collect()\n",
    "\n",
    "\n",
    "# part\n",
    "questions_df = pd.read_csv(question_file)\n",
    "encoder = dict(questions_df[['question_id', 'part']].values)\n",
    "train['part'] = train['content_id'].map(encoder)\n",
    "valid['part'] = valid['content_id'].map(encoder)"
   ]
  },
  {
   "cell_type": "code",
   "execution_count": 6,
   "metadata": {
    "scrolled": true
   },
   "outputs": [
    {
     "data": {
      "application/vnd.jupyter.widget-view+json": {
       "model_id": "df15c5683a2a441c8e8b06f54f9d6ec1",
       "version_major": 2,
       "version_minor": 0
      },
      "text/plain": [
       "HBox(children=(HTML(value=''), FloatProgress(value=0.0, max=96817414.0), HTML(value='')))"
      ]
     },
     "metadata": {},
     "output_type": "display_data"
    },
    {
     "name": "stdout",
     "output_type": "stream",
     "text": [
      "\n"
     ]
    },
    {
     "data": {
      "application/vnd.jupyter.widget-view+json": {
       "model_id": "f37dd0c510864444a85c62c9a85079ce",
       "version_major": 2,
       "version_minor": 0
      },
      "text/plain": [
       "HBox(children=(HTML(value=''), FloatProgress(value=0.0, max=2453886.0), HTML(value='')))"
      ]
     },
     "metadata": {},
     "output_type": "display_data"
    },
    {
     "name": "stdout",
     "output_type": "stream",
     "text": [
      "\n"
     ]
    }
   ],
   "source": [
    "answered_correctly_sum_user_dict = {}\n",
    "attempt_content_dict = {}\n",
    "count_user_dict = {}\n",
    "timestamp_diff3_dict = {}\n",
    "seq2dec_w7_dict = {}\n",
    "\n",
    "train = add_loop_feats(train, answered_correctly_sum_user_dict, attempt_content_dict,\n",
    "                                  count_user_dict, timestamp_diff3_dict, seq2dec_w7_dict)\n",
    "valid = add_loop_feats(valid, answered_correctly_sum_user_dict, attempt_content_dict,\n",
    "                                  count_user_dict, timestamp_diff3_dict, seq2dec_w7_dict)\n",
    "\n",
    "# train = reduce_mem_usage(train)\n",
    "# valid = reduce_mem_usage(valid)"
   ]
  },
  {
   "cell_type": "code",
   "execution_count": 7,
   "metadata": {},
   "outputs": [],
   "source": [
    "if debug:\n",
    "    save_pickle(answered_correctly_sum_user_dict, ver_dir / 'debug_answered_correctly_sum_user_dict.pkl')\n",
    "    save_pickle(attempt_content_dict, ver_dir / 'debug_attempt_content_dict.pkl')\n",
    "    save_pickle(count_user_dict, ver_dir / 'debug_count_user_dict.pkl')\n",
    "#     save_pickle(timestamp_diff3_dict, ver_dir / 'debug_timestamp_diff3_dict.pkl')\n",
    "#     save_pickle(seq2dec_w7_dict, ver_dir / 'debug_seq2dec_w7_dict.pkl')\n",
    "    train.to_pickle(ver_dir / 'debug_train_features_df.pkl')\n",
    "    valid.to_pickle(ver_dir / 'debug_valid_features_df.pkl')\n",
    "else:\n",
    "    save_pickle(answered_correctly_sum_user_dict, ver_dir / 'answered_correctly_sum_user_dict.pkl')\n",
    "    save_pickle(attempt_content_dict, ver_dir / 'attempt_content_dict.pkl')\n",
    "    save_pickle(count_user_dict, ver_dir / 'count_user_dict.pkl')\n",
    "#     save_pickle(timestamp_diff3_dict, ver_dir / 'timestamp_diff3_dict.pkl')\n",
    "#     save_pickle(seq2dec_w7_dict, ver_dir / 'seq2dec_w7_dict.pkl')\n",
    "    train.to_pickle(ver_dir / 'train_features_df.pkl')\n",
    "    valid.to_pickle(ver_dir / 'valid_features_df.pkl')"
   ]
  },
  {
   "cell_type": "code",
   "execution_count": 8,
   "metadata": {
    "scrolled": true
   },
   "outputs": [],
   "source": [
    "TARGET = 'answered_correctly'\n",
    "FEATS = [\n",
    "    'part', 'prior_question_elapsed_time', 'task_container_id',\n",
    "    'te_content_id_by_answered_correctly', 'te_content_id_and_attempt_c_by_answered_correctly',\n",
    "    'tag_w2v_max', 'tag_w2v_mean', 'tag_w2v_median', 'tag_w2v_min',\n",
    "    'content_id_tsne_0', 'content_id_tsne_1',\n",
    "    'prior_question_elapsed_time_mean', 'prior_question_elapsed_time_median', 'prior_question_elapsed_time_std',\n",
    "    'timestamp_lag_median',\n",
    "    'answered_correctly_avg_user', 'answered_correctly_sum_user', 'attempt_content', 'count_user',\n",
    "#     'timestamp_diff1', 'timestamp_diff2', 'timestamp_diff3', 'seq2dec_w7',\n",
    "]\n",
    "\n",
    "dro_cols = list(set(train.columns) - set(FEATS))\n",
    "y_tr = train[TARGET]\n",
    "y_va = valid[TARGET]\n",
    "train.drop(dro_cols, axis=1, inplace=True)\n",
    "valid.drop(dro_cols, axis=1, inplace=True)\n",
    "_=gc.collect()"
   ]
  },
  {
   "cell_type": "code",
   "execution_count": 9,
   "metadata": {},
   "outputs": [],
   "source": [
    "cat_train = Pool(train[FEATS], label=y_tr)\n",
    "cat_valid = Pool(valid[FEATS], label=y_va)\n",
    "\n",
    "if not debug:\n",
    "    del train, y_tr\n",
    "    _=gc.collect()"
   ]
  },
  {
   "cell_type": "code",
   "execution_count": 10,
   "metadata": {},
   "outputs": [
    {
     "name": "stdout",
     "output_type": "stream",
     "text": [
      "0:\tlearn: 0.7417916\ttest: 0.7463987\tbest: 0.7463987 (0)\ttotal: 567ms\tremaining: 4h 43m 26s\n",
      "100:\tlearn: 0.7586789\ttest: 0.7576160\tbest: 0.7583548 (48)\ttotal: 30s\tremaining: 2h 28m 6s\n",
      "bestTest = 0.7583548427\n",
      "bestIteration = 48\n",
      "Shrink model to first 49 iterations.\n",
      "\n",
      "auc: 0.7583548207004428\n"
     ]
    }
   ],
   "source": [
    "cat_params = {\n",
    "    'loss_function': 'Logloss',\n",
    "    'eval_metric': 'AUC',\n",
    "    'learning_rate': 0.1,\n",
    "    'iterations': 30_000,\n",
    "    'depth': 8,\n",
    "    'l2_leaf_reg': 3.0,\n",
    "    'bagging_temperature': 0.2,\n",
    "    'border_count': 128,\n",
    "    'od_type': 'Iter',\n",
    "    'metric_period': 50,\n",
    "    'od_wait': 50,\n",
    "    'random_seed': 2020,\n",
    "    'task_type': 'GPU'\n",
    "}\n",
    "\n",
    "cb = CatBoostClassifier(**cat_params)\n",
    "model = cb.fit(cat_train,\n",
    "                      eval_set=cat_valid,\n",
    "                      use_best_model=True,\n",
    "                      verbose_eval=100,\n",
    "                      early_stopping_rounds=100,\n",
    "                      plot=False)\n",
    "\n",
    "print('\\nauc:', roc_auc_score(y_va, model.predict_proba(valid[FEATS])[:, 1]))"
   ]
  },
  {
   "cell_type": "code",
   "execution_count": 11,
   "metadata": {
    "scrolled": true
   },
   "outputs": [
    {
     "data": {
      "text/plain": [
       "<AxesSubplot:xlabel='importance', ylabel='feature'>"
      ]
     },
     "execution_count": 11,
     "metadata": {},
     "output_type": "execute_result"
    },
    {
     "data": {
      "image/png": "[encoded data removed]",
      "text/plain": [
       "<Figure size 1152x2160 with 1 Axes>"
      ]
     },
     "metadata": {
      "needs_background": "light"
     },
     "output_type": "display_data"
    }
   ],
   "source": [
    "imp_df = pd.DataFrame({'feature': FEATS, 'importance': model.feature_importances_})\n",
    "\n",
    "%matplotlib inline\n",
    "import matplotlib.pyplot as plt\n",
    "import seaborn as sns\n",
    "\n",
    "plt.figure(figsize=(16, 30))\n",
    "sns.barplot(x='importance', y='feature', data=imp_df.sort_values(by='importance', ascending=False))"
   ]
  },
  {
   "cell_type": "code",
   "execution_count": 12,
   "metadata": {},
   "outputs": [],
   "source": [
    "if debug:\n",
    "    save_pickle(model, ver_dir / f'debug_{version_name}.pkl')\n",
    "    save_pickle(te_content_id_encoder, ver_dir / 'debug_te_content_id_encoder.pkl')\n",
    "    save_pickle(ver_dir, ver_dir / 'debug_te_content_id_and_attempt_encoder.pkl')\n",
    "\n",
    "    content_w2v_df.to_csv(ver_dir / 'debug_content_w2v_df.csv', index=False)\n",
    "    content_tsne_df.to_csv(ver_dir / 'debug_content_tsne_df.csv', index=False)\n",
    "    agg_prior_question_elapsed_time_df.to_csv(ver_dir / 'debug_agg_prior_question_elapsed_time_df.csv', index=False)\n",
    "    user_lag_median_df.to_csv(ver_dir / 'debug_user_lag_median_df.csv', index=False)\n",
    "else:\n",
    "    save_pickle(model, ver_dir / f'{version_name}.pkl')\n",
    "    save_pickle(te_content_id_encoder, ver_dir / 'te_content_id_encoder.pkl')\n",
    "    save_pickle(ver_dir, ver_dir / 'te_content_id_and_attempt_encoder.pkl')\n",
    "\n",
    "    content_w2v_df.to_csv(ver_dir / 'content_w2v_df.csv', index=False)\n",
    "    content_tsne_df.to_csv(ver_dir / 'content_tsne_df.csv', index=False)\n",
    "    agg_prior_question_elapsed_time_df.to_csv(ver_dir / 'agg_prior_question_elapsed_time_df.csv', index=False)\n",
    "    user_lag_median_df.to_csv(ver_dir / 'user_lag_median_df.csv', index=False)"
   ]
  },
  {
   "cell_type": "code",
   "execution_count": null,
   "metadata": {},
   "outputs": [],
   "source": []
  }
 ],
 "metadata": {
  "kernelspec": {
   "display_name": "rapids",
   "language": "python",
   "name": "miniconda3-latest"
  },
  "language_info": {
   "codemirror_mode": {
    "name": "ipython",
    "version": 3
   },
   "file_extension": ".py",
   "mimetype": "text/x-python",
   "name": "python",
   "nbconvert_exporter": "python",
   "pygments_lexer": "ipython3",
   "version": "3.7.7"
  }
 },
 "nbformat": 4,
 "nbformat_minor": 4
}
