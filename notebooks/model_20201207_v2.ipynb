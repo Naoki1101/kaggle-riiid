{
 "cells": [
  {
   "cell_type": "code",
   "execution_count": 1,
   "metadata": {},
   "outputs": [],
   "source": [
    "import os\n",
    "import gc\n",
    "import sys\n",
    "import random\n",
    "\n",
    "import torch\n",
    "import pandas as pd\n",
    "import numpy as np\n",
    "from pathlib import Path\n",
    "from sklearn.metrics import roc_auc_score\n",
    "from sklearn.model_selection import StratifiedKFold\n",
    "from collections import defaultdict\n",
    "from tqdm.notebook import tqdm\n",
    "import lightgbm as lgb"
   ]
  },
  {
   "cell_type": "code",
   "execution_count": 2,
   "metadata": {},
   "outputs": [],
   "source": [
    "ver_dir = Path('./model_20201207_lightgbm_v2')\n",
    "ver_dir.mkdir(exist_ok=True)"
   ]
  },
  {
   "cell_type": "code",
   "execution_count": 3,
   "metadata": {},
   "outputs": [],
   "source": [
    "def seed_everything(seed=42):\n",
    "    random.seed(seed)\n",
    "    os.environ['PYTHONHASHSEED'] = str(seed)\n",
    "    np.random.seed(seed)\n",
    "    torch.manual_seed(seed)\n",
    "    torch.cuda.manual_seed(seed)\n",
    "    torch.backends.cudnn.deterministic = True\n",
    "    \n",
    "seed_everything(2020)"
   ]
  },
  {
   "cell_type": "code",
   "execution_count": 4,
   "metadata": {},
   "outputs": [],
   "source": [
    "train_pickle = '../folds/cv1_train.pickle'\n",
    "valid_pickle = '../folds/cv1_valid.pickle'\n",
    "question_file = '../data/input/questions.csv'\n",
    "debug = False\n",
    "validaten_flg = False"
   ]
  },
  {
   "cell_type": "code",
   "execution_count": 5,
   "metadata": {},
   "outputs": [],
   "source": [
    "def fast_left_merge(df1, df2, on):\n",
    "    df2.index = df2[on]\n",
    "\n",
    "    merged_df = pd.concat([\n",
    "        df1.reset_index(drop=True),\n",
    "        df2.reindex(df1[on].values).reset_index(drop=True).drop(on, axis=1)\n",
    "    ], axis=1)\n",
    "    \n",
    "    return merged_df"
   ]
  },
  {
   "cell_type": "code",
   "execution_count": 6,
   "metadata": {
    "scrolled": true
   },
   "outputs": [],
   "source": [
    "# funcs for user stats with loop\n",
    "def add_user_feats(df, answered_correctly_sum_u_dict, count_u_dict, prior_q_dict, attempt_c_dict, attempt_cb_dict):\n",
    "    acsu = np.zeros(len(df), dtype=np.int32)\n",
    "    cu = np.zeros(len(df), dtype=np.int32)\n",
    "    pcf = np.zeros(len(df), dtype=np.int32)\n",
    "    ac = np.zeros(len(df), dtype=np.int32)\n",
    "    acb = np.zeros(len(df), dtype=np.int32)\n",
    "\n",
    "    for cnt, row in enumerate(tqdm(df[['user_id', 'content_id', 'content_id_bin', 'answered_correctly']].values)):\n",
    "        acsu[cnt] = answered_correctly_sum_u_dict.setdefault(row[0], 0)\n",
    "        cu[cnt] = count_u_dict.setdefault(row[0], 0)\n",
    "        if row[1] == prior_q_dict.setdefault(row[0], -1):\n",
    "            pcf[cnt] = 1\n",
    "        else:\n",
    "            pcf[cnt] = 0\n",
    "            \n",
    "        ac[cnt] = attempt_c_dict.setdefault(row[0], {}).setdefault(row[1], 1)\n",
    "        acb[cnt] = attempt_cb_dict.setdefault(row[0], {}).setdefault(row[2], 1)\n",
    "\n",
    "        answered_correctly_sum_u_dict[row[0]] += row[3]\n",
    "        prior_q_dict[row[0]] = row[1]\n",
    "        count_u_dict[row[0]] += 1\n",
    "        attempt_c_dict[row[0]][row[1]] += 1\n",
    "        attempt_cb_dict[row[0]][row[2]] += 1\n",
    "\n",
    "    user_feats_df = pd.DataFrame({\n",
    "        'answered_correctly_sum_u':acsu,\n",
    "        'count_u':cu,\n",
    "        'equal_prior_question_flag': pcf,\n",
    "        'attempt_c': ac,\n",
    "        'attempt_cb': acb\n",
    "    })\n",
    "    user_feats_df['answered_correctly_avg_u'] = user_feats_df['answered_correctly_sum_u'] / user_feats_df['count_u']\n",
    "    df = pd.concat([df, user_feats_df], axis=1)\n",
    "    return df"
   ]
  },
  {
   "cell_type": "code",
   "execution_count": 7,
   "metadata": {},
   "outputs": [],
   "source": [
    "# read data\n",
    "feld_needed = [\n",
    "    'row_id', 'timestamp', 'user_id', 'content_id', 'content_type_id', 'answered_correctly',\n",
    "    'prior_question_elapsed_time', 'prior_question_had_explanation', 'task_container_id'\n",
    "]\n",
    "train = pd.read_pickle(train_pickle)[feld_needed]\n",
    "valid = pd.read_pickle(valid_pickle)[feld_needed]\n",
    "if debug:\n",
    "    train = train[:1_000_000]\n",
    "    valid = valid[:10_000]"
   ]
  },
  {
   "cell_type": "code",
   "execution_count": 8,
   "metadata": {},
   "outputs": [
    {
     "name": "stderr",
     "output_type": "stream",
     "text": [
      "/home/naoki/.pyenv/versions/miniconda3-latest/lib/python3.7/site-packages/sklearn/model_selection/_split.py:672: UserWarning: The least populated class in y has only 1 members, which is less than n_splits=3.\n",
      "  % (min_groups, self.n_splits)), UserWarning)\n"
     ]
    }
   ],
   "source": [
    "user_count_df = train['user_id'].value_counts().reset_index()\n",
    "user_count_df.columns = ['user_id', 'count_num']\n",
    "user_count_df['count_bin'] = pd.cut(user_count_df['count_num'], 200, labels=False)\n",
    "\n",
    "kfold = StratifiedKFold(n_splits=3, shuffle=True, random_state=2020)\n",
    "\n",
    "fold_df = pd.DataFrame(index=user_count_df.index)\n",
    "for fold_, (trn_idx, val_idx) in enumerate(kfold.split(user_count_df, user_count_df['count_bin'])):\n",
    "    fold_df[f'fold_{fold_}'] = 0\n",
    "    fold_df.loc[val_idx, f'fold_{fold_}'] += 1\n",
    "\n",
    "drop_train_users = user_count_df.loc[fold_df[fold_df['fold_0'] == 1].index, 'user_id'].values\n",
    "train = train[~train['user_id'].isin(drop_train_users)].reset_index(drop=True)"
   ]
  },
  {
   "cell_type": "code",
   "execution_count": 9,
   "metadata": {},
   "outputs": [],
   "source": [
    "count_c_each_answer = pd.crosstab(index=train['content_id'],\n",
    "                                                        columns=train['answered_correctly'])\n",
    "count_c_each_answer.columns = ['lecture', 'ans_false', 'ans_true']\n",
    "count_c_each_answer['rate_lecture'] = count_c_each_answer['lecture'] / count_c_each_answer.values.sum(axis=1)\n",
    "c2rl = dict(count_c_each_answer['rate_lecture'])\n",
    "\n",
    "train = train.loc[train.content_type_id == False].reset_index(drop=True)\n",
    "valid = valid.loc[valid.content_type_id == False].reset_index(drop=True)\n",
    "\n",
    "whole = pd.concat([train[['content_id']], valid[['content_id']]], axis=0)\n",
    "count_content_dict = whole['content_id'].value_counts()\n",
    "train['count_c'] = train['content_id'].map(count_content_dict)\n",
    "valid['count_c'] = valid['content_id'].map(count_content_dict)\n",
    "\n",
    "del whole; gc.collect()\n",
    "\n",
    "\n",
    "train['content_id_bin'] = train['content_id'] // 10\n",
    "valid['content_id_bin'] = valid['content_id'] // 10\n",
    "\n",
    "\n",
    "\n",
    "questions_df = pd.read_csv(question_file)[['question_id', 'part']]\n",
    "q2p = dict(questions_df.values)\n",
    "\n",
    "train['part'] = train['content_id'].map(q2p)\n",
    "valid['part'] = valid['content_id'].map(q2p)"
   ]
  },
  {
   "cell_type": "code",
   "execution_count": 10,
   "metadata": {
    "scrolled": true
   },
   "outputs": [
    {
     "data": {
      "application/vnd.jupyter.widget-view+json": {
       "model_id": "954a80f856f54ff2b98acdda0e7bf935",
       "version_major": 2,
       "version_minor": 0
      },
      "text/plain": [
       "HBox(children=(HTML(value=''), FloatProgress(value=0.0, max=64539716.0), HTML(value='')))"
      ]
     },
     "metadata": {},
     "output_type": "display_data"
    },
    {
     "name": "stdout",
     "output_type": "stream",
     "text": [
      "\n"
     ]
    },
    {
     "data": {
      "application/vnd.jupyter.widget-view+json": {
       "model_id": "c043d29a3bce45ada41201c276c2407f",
       "version_major": 2,
       "version_minor": 0
      },
      "text/plain": [
       "HBox(children=(HTML(value=''), FloatProgress(value=0.0, max=2453886.0), HTML(value='')))"
      ]
     },
     "metadata": {},
     "output_type": "display_data"
    },
    {
     "name": "stdout",
     "output_type": "stream",
     "text": [
      "\n"
     ]
    }
   ],
   "source": [
    "# user stats features with loops\n",
    "answered_correctly_sum_u_dict = {}\n",
    "count_u_dict = {}\n",
    "prior_q_dict = {}\n",
    "attempt_c_dict = {}\n",
    "attempt_cb_dict = {}\n",
    "\n",
    "train = add_user_feats(train, answered_correctly_sum_u_dict, count_u_dict, prior_q_dict, attempt_c_dict, attempt_cb_dict)\n",
    "valid = add_user_feats(valid, answered_correctly_sum_u_dict, count_u_dict, prior_q_dict, attempt_c_dict, attempt_cb_dict)\n",
    "\n",
    "# fill with mean value for prior_question_elapsed_time\n",
    "# note that `train.prior_question_elapsed_time.mean()` dose not work!\n",
    "# please refer https://www.kaggle.com/its7171/can-we-trust-pandas-mean for detail.\n",
    "# prior_question_elapsed_time_mean = train.prior_question_elapsed_time.dropna().values.mean()\n",
    "# train['prior_question_elapsed_time_mean'] = train.prior_question_elapsed_time.fillna(prior_question_elapsed_time_mean)\n",
    "# valid['prior_question_elapsed_time_mean'] = valid.prior_question_elapsed_time.fillna(prior_question_elapsed_time_mean)\n",
    "\n",
    "# use only last 30M training data for limited memory on kaggle env.\n",
    "#train = train[-30000000:]\n",
    "\n",
    "# changing dtype to avoid lightgbm error\n",
    "train['prior_question_had_explanation'] = train.prior_question_had_explanation.fillna(False).astype('int8')\n",
    "valid['prior_question_had_explanation'] = valid.prior_question_had_explanation.fillna(False).astype('int8')"
   ]
  },
  {
   "cell_type": "code",
   "execution_count": 11,
   "metadata": {},
   "outputs": [],
   "source": [
    "import sys\n",
    "from easydict import EasyDict as edict\n",
    "\n",
    "sys.path.append('../src')\n",
    "from factory import get_fold\n",
    "from make_features.feature_utils import TargetEncoding\n",
    "\n",
    "cfg = edict({\n",
    "    'name': 'KFold',\n",
    "    'params': {\n",
    "        'n_splits': 5,\n",
    "        'shuffle': True,\n",
    "        'random_state': 0,\n",
    "    },\n",
    "    'split': {\n",
    "        'y': 'user_id',\n",
    "        'groups': None\n",
    "    },\n",
    "    'weight': 'average'\n",
    "})\n",
    "\n",
    "\n",
    "fold_df = get_fold(cfg, train)\n",
    "\n",
    "train['content_id_and_attempt_c'] = train['content_id'].astype(str) + '_' + train['attempt_c'].apply(lambda x: x if x <= 3 else 3).astype(str)\n",
    "valid['content_id_and_attempt_c'] = valid['content_id'].astype(str) + '_' + valid['attempt_c'].apply(lambda x: x if x <= 3 else 3).astype(str)\n",
    "\n",
    "col = 'content_id_and_attempt_c'\n",
    "te = TargetEncoding(fold_df)\n",
    "train[f'te_{col}_by_answered_correctly'] = te.fit_transform(train[col], train['answered_correctly'])\n",
    "valid[f'te_{col}_by_answered_correctly'] = te.transform(valid[col])"
   ]
  },
  {
   "cell_type": "code",
   "execution_count": 12,
   "metadata": {
    "scrolled": true
   },
   "outputs": [],
   "source": [
    "TARGET = 'answered_correctly'\n",
    "FEATS = [\n",
    "    'answered_correctly_avg_u', 'answered_correctly_sum_u', 'count_u', 'equal_prior_question_flag',\n",
    "    'te_content_id_and_attempt_c_by_answered_correctly', 'part', 'prior_question_had_explanation', \n",
    "    'prior_question_elapsed_time', 'attempt_cb', 'user_id', 'content_id_bin'\n",
    "]\n",
    "dro_cols = list(set(train.columns) - set(FEATS))\n",
    "y_tr = train[TARGET]\n",
    "y_va = valid[TARGET]\n",
    "train.drop(dro_cols, axis=1, inplace=True)\n",
    "valid.drop(dro_cols, axis=1, inplace=True)\n",
    "_=gc.collect()"
   ]
  },
  {
   "cell_type": "code",
   "execution_count": 13,
   "metadata": {},
   "outputs": [],
   "source": [
    "lgb_train = lgb.Dataset(train[FEATS], y_tr)\n",
    "lgb_valid = lgb.Dataset(valid[FEATS], y_va)\n",
    "del train, y_tr\n",
    "_=gc.collect()"
   ]
  },
  {
   "cell_type": "code",
   "execution_count": 14,
   "metadata": {
    "scrolled": true
   },
   "outputs": [
    {
     "name": "stdout",
     "output_type": "stream",
     "text": [
      "Training until validation scores don't improve for 10 rounds\n",
      "[10]\ttraining's auc: 0.756495\tvalid_1's auc: 0.760864\n",
      "[20]\ttraining's auc: 0.758165\tvalid_1's auc: 0.762613\n",
      "[30]\ttraining's auc: 0.758726\tvalid_1's auc: 0.763179\n",
      "[40]\ttraining's auc: 0.75905\tvalid_1's auc: 0.763527\n",
      "[50]\ttraining's auc: 0.759219\tvalid_1's auc: 0.763664\n",
      "[60]\ttraining's auc: 0.759418\tvalid_1's auc: 0.763861\n",
      "[70]\ttraining's auc: 0.759537\tvalid_1's auc: 0.763976\n",
      "[80]\ttraining's auc: 0.759666\tvalid_1's auc: 0.764072\n",
      "[90]\ttraining's auc: 0.75977\tvalid_1's auc: 0.764174\n",
      "[100]\ttraining's auc: 0.75986\tvalid_1's auc: 0.764252\n",
      "Did not meet early stopping. Best iteration is:\n",
      "[100]\ttraining's auc: 0.75986\tvalid_1's auc: 0.764252\n",
      "auc: 0.764252008876661\n"
     ]
    },
    {
     "data": {
      "image/png": "[encoded data removed]",
      "text/plain": [
       "<Figure size 432x288 with 1 Axes>"
      ]
     },
     "metadata": {
      "needs_background": "light"
     },
     "output_type": "display_data"
    }
   ],
   "source": [
    "lgb_params = {\n",
    "    'boosting_type': 'gbdt',\n",
    "    'objective': 'binary',\n",
    "    'metric': 'auc',\n",
    "    'learning_rate': 0.3,\n",
    "#     'num_leaves': 32,\n",
    "#     'min_child_samples': 20,\n",
    "#     'feature_fraction': 0.8,\n",
    "#     'bagging_fraction': 0.3,\n",
    "#     'bagging_freq': 1,\n",
    "#     'bagging_seed': 11,\n",
    "#     'max_bin': 255,\n",
    "#     'verbose': -1,\n",
    "#     'nthread': -1,\n",
    "    'seed': 2020,\n",
    "#     'first_metric_only': True\n",
    "}\n",
    "\n",
    "model = lgb.train(\n",
    "                    lgb_params,\n",
    "                    lgb_train,\n",
    "                    valid_sets=[lgb_train, lgb_valid],\n",
    "                    verbose_eval=10,\n",
    "                    num_boost_round=100,\n",
    "                    early_stopping_rounds=10\n",
    "                )\n",
    "print('auc:', roc_auc_score(y_va, model.predict(valid[FEATS])))\n",
    "_ = lgb.plot_importance(model)"
   ]
  },
  {
   "cell_type": "code",
   "execution_count": 15,
   "metadata": {
    "scrolled": true
   },
   "outputs": [],
   "source": [
    "import pickle\n",
    "\n",
    "def save_pickle(obj, f_name):\n",
    "    with open(f_name, 'wb') as f:\n",
    "        pickle.dump(obj, f)\n",
    "\n",
    "if debug:\n",
    "    save_pickle(model, ver_dir / f'{str(ver_dir)}.pkl')\n",
    "    save_pickle(answered_correctly_sum_u_dict, ver_dir / 'debug_answered_correctly_sum_u_dict.pkl')\n",
    "    save_pickle(count_u_dict, ver_dir / 'debug_count_u_dict.pkl')\n",
    "#     save_pickle(count_c_each_u_dict, 'debug_count_c_each_u_dict.pkl')\n",
    "    save_pickle(prior_q_dict, ver_dir / 'debug_prior_q_dict.pkl')\n",
    "    save_pickle(attempt_c_dict, ver_dir / 'debug_attempt_c_dict.pkl')\n",
    "    save_pickle(attempt_cb_dict, ver_dir / 'debug_attempt_cb_dict.pkl')\n",
    "    save_pickle(te.encoder, ver_dir / 'debug_te_encoder.pkl')\n",
    "else:\n",
    "    save_pickle(model, ver_dir / f'{str(ver_dir)}.pkl')\n",
    "    save_pickle(answered_correctly_sum_u_dict, ver_dir / 'answered_correctly_sum_u_dict.pkl')\n",
    "    save_pickle(count_u_dict, ver_dir / 'count_u_dict.pkl')\n",
    "#     save_pickle(count_c_each_u_dict, 'count_c_each_u_dict.pkl')\n",
    "    save_pickle(prior_q_dict, ver_dir / 'prior_q_dict.pkl')\n",
    "    save_pickle(attempt_c_dict, ver_dir / 'attempt_c_dict.pkl')\n",
    "    save_pickle(attempt_cb_dict, ver_dir / 'attempt_cb_dict.pkl')\n",
    "    save_pickle(te.encoder, ver_dir / 'te_encoder.pkl')"
   ]
  },
  {
   "cell_type": "code",
   "execution_count": 5,
   "metadata": {},
   "outputs": [],
   "source": [
    "train_df = pd.read_csv('../data/input/train.csv')"
   ]
  },
  {
   "cell_type": "code",
   "execution_count": 8,
   "metadata": {},
   "outputs": [],
   "source": [
    "a = train_df['content_id'].value_counts()"
   ]
  },
  {
   "cell_type": "code",
   "execution_count": 10,
   "metadata": {},
   "outputs": [],
   "source": [
    "%matplotlib inline\n",
    "import matplotlib.pyplot as plt"
   ]
  },
  {
   "cell_type": "code",
   "execution_count": 11,
   "metadata": {},
   "outputs": [
    {
     "data": {
      "image/png": "[encoded data removed]",
      "text/plain": [
       "<Figure size 432x288 with 1 Axes>"
      ]
     },
     "metadata": {
      "needs_background": "light"
     },
     "output_type": "display_data"
    }
   ],
   "source": [
    "plt.hist(a, bins=50)\n",
    "plt.tight_layout()"
   ]
  },
  {
   "cell_type": "code",
   "execution_count": 44,
   "metadata": {},
   "outputs": [
    {
     "data": {
      "text/plain": [
       "13782"
      ]
     },
     "execution_count": 44,
     "metadata": {},
     "output_type": "execute_result"
    }
   ],
   "source": [
    "len(a)"
   ]
  },
  {
   "cell_type": "code",
   "execution_count": 43,
   "metadata": {},
   "outputs": [
    {
     "data": {
      "text/plain": [
       "7351"
      ]
     },
     "execution_count": 43,
     "metadata": {},
     "output_type": "execute_result"
    }
   ],
   "source": [
    "b = a[a <= 5_000].index.values\n",
    "len(b)"
   ]
  },
  {
   "cell_type": "code",
   "execution_count": 42,
   "metadata": {},
   "outputs": [
    {
     "data": {
      "text/html": [
       "<div>\n",
       "<style scoped>\n",
       "    .dataframe tbody tr th:only-of-type {\n",
       "        vertical-align: middle;\n",
       "    }\n",
       "\n",
       "    .dataframe tbody tr th {\n",
       "        vertical-align: top;\n",
       "    }\n",
       "\n",
       "    .dataframe thead th {\n",
       "        text-align: right;\n",
       "    }\n",
       "</style>\n",
       "<table border=\"1\" class=\"dataframe\">\n",
       "  <thead>\n",
       "    <tr style=\"text-align: right;\">\n",
       "      <th></th>\n",
       "      <th>row_id</th>\n",
       "      <th>timestamp</th>\n",
       "      <th>user_id</th>\n",
       "      <th>content_id</th>\n",
       "      <th>content_type_id</th>\n",
       "      <th>task_container_id</th>\n",
       "      <th>user_answer</th>\n",
       "      <th>answered_correctly</th>\n",
       "      <th>prior_question_elapsed_time</th>\n",
       "      <th>prior_question_had_explanation</th>\n",
       "    </tr>\n",
       "  </thead>\n",
       "  <tbody>\n",
       "    <tr>\n",
       "      <th>102</th>\n",
       "      <td>102</td>\n",
       "      <td>274437</td>\n",
       "      <td>5382</td>\n",
       "      <td>5235</td>\n",
       "      <td>0</td>\n",
       "      <td>6</td>\n",
       "      <td>0</td>\n",
       "      <td>1</td>\n",
       "      <td>5000.0</td>\n",
       "      <td>False</td>\n",
       "    </tr>\n",
       "    <tr>\n",
       "      <th>104</th>\n",
       "      <td>104</td>\n",
       "      <td>367177</td>\n",
       "      <td>5382</td>\n",
       "      <td>5721</td>\n",
       "      <td>0</td>\n",
       "      <td>8</td>\n",
       "      <td>1</td>\n",
       "      <td>0</td>\n",
       "      <td>70000.0</td>\n",
       "      <td>False</td>\n",
       "    </tr>\n",
       "    <tr>\n",
       "      <th>117</th>\n",
       "      <td>117</td>\n",
       "      <td>10183847</td>\n",
       "      <td>5382</td>\n",
       "      <td>16736</td>\n",
       "      <td>1</td>\n",
       "      <td>21</td>\n",
       "      <td>-1</td>\n",
       "      <td>-1</td>\n",
       "      <td>NaN</td>\n",
       "      <td>False</td>\n",
       "    </tr>\n",
       "    <tr>\n",
       "      <th>125</th>\n",
       "      <td>125</td>\n",
       "      <td>29390945</td>\n",
       "      <td>5382</td>\n",
       "      <td>4640</td>\n",
       "      <td>0</td>\n",
       "      <td>29</td>\n",
       "      <td>1</td>\n",
       "      <td>0</td>\n",
       "      <td>30000.0</td>\n",
       "      <td>True</td>\n",
       "    </tr>\n",
       "    <tr>\n",
       "      <th>127</th>\n",
       "      <td>127</td>\n",
       "      <td>72773105</td>\n",
       "      <td>5382</td>\n",
       "      <td>9636</td>\n",
       "      <td>0</td>\n",
       "      <td>31</td>\n",
       "      <td>0</td>\n",
       "      <td>1</td>\n",
       "      <td>27000.0</td>\n",
       "      <td>True</td>\n",
       "    </tr>\n",
       "    <tr>\n",
       "      <th>...</th>\n",
       "      <td>...</td>\n",
       "      <td>...</td>\n",
       "      <td>...</td>\n",
       "      <td>...</td>\n",
       "      <td>...</td>\n",
       "      <td>...</td>\n",
       "      <td>...</td>\n",
       "      <td>...</td>\n",
       "      <td>...</td>\n",
       "      <td>...</td>\n",
       "    </tr>\n",
       "    <tr>\n",
       "      <th>101230306</th>\n",
       "      <td>101230306</td>\n",
       "      <td>21320</td>\n",
       "      <td>2147482888</td>\n",
       "      <td>4792</td>\n",
       "      <td>0</td>\n",
       "      <td>1</td>\n",
       "      <td>0</td>\n",
       "      <td>1</td>\n",
       "      <td>15000.0</td>\n",
       "      <td>False</td>\n",
       "    </tr>\n",
       "    <tr>\n",
       "      <th>101230315</th>\n",
       "      <td>101230315</td>\n",
       "      <td>254416434</td>\n",
       "      <td>2147482888</td>\n",
       "      <td>9767</td>\n",
       "      <td>0</td>\n",
       "      <td>10</td>\n",
       "      <td>1</td>\n",
       "      <td>1</td>\n",
       "      <td>18000.0</td>\n",
       "      <td>True</td>\n",
       "    </tr>\n",
       "    <tr>\n",
       "      <th>101230319</th>\n",
       "      <td>101230319</td>\n",
       "      <td>254572066</td>\n",
       "      <td>2147482888</td>\n",
       "      <td>9788</td>\n",
       "      <td>0</td>\n",
       "      <td>14</td>\n",
       "      <td>2</td>\n",
       "      <td>0</td>\n",
       "      <td>26000.0</td>\n",
       "      <td>True</td>\n",
       "    </tr>\n",
       "    <tr>\n",
       "      <th>101230326</th>\n",
       "      <td>101230326</td>\n",
       "      <td>428542872</td>\n",
       "      <td>2147482888</td>\n",
       "      <td>6202</td>\n",
       "      <td>0</td>\n",
       "      <td>21</td>\n",
       "      <td>2</td>\n",
       "      <td>1</td>\n",
       "      <td>44000.0</td>\n",
       "      <td>True</td>\n",
       "    </tr>\n",
       "    <tr>\n",
       "      <th>101230327</th>\n",
       "      <td>101230327</td>\n",
       "      <td>428564420</td>\n",
       "      <td>2147482888</td>\n",
       "      <td>3586</td>\n",
       "      <td>0</td>\n",
       "      <td>22</td>\n",
       "      <td>0</td>\n",
       "      <td>1</td>\n",
       "      <td>18000.0</td>\n",
       "      <td>True</td>\n",
       "    </tr>\n",
       "  </tbody>\n",
       "</table>\n",
       "<p>16990730 rows × 10 columns</p>\n",
       "</div>"
      ],
      "text/plain": [
       "              row_id  timestamp     user_id  content_id  content_type_id  \\\n",
       "102              102     274437        5382        5235                0   \n",
       "104              104     367177        5382        5721                0   \n",
       "117              117   10183847        5382       16736                1   \n",
       "125              125   29390945        5382        4640                0   \n",
       "127              127   72773105        5382        9636                0   \n",
       "...              ...        ...         ...         ...              ...   \n",
       "101230306  101230306      21320  2147482888        4792                0   \n",
       "101230315  101230315  254416434  2147482888        9767                0   \n",
       "101230319  101230319  254572066  2147482888        9788                0   \n",
       "101230326  101230326  428542872  2147482888        6202                0   \n",
       "101230327  101230327  428564420  2147482888        3586                0   \n",
       "\n",
       "           task_container_id  user_answer  answered_correctly  \\\n",
       "102                        6            0                   1   \n",
       "104                        8            1                   0   \n",
       "117                       21           -1                  -1   \n",
       "125                       29            1                   0   \n",
       "127                       31            0                   1   \n",
       "...                      ...          ...                 ...   \n",
       "101230306                  1            0                   1   \n",
       "101230315                 10            1                   1   \n",
       "101230319                 14            2                   0   \n",
       "101230326                 21            2                   1   \n",
       "101230327                 22            0                   1   \n",
       "\n",
       "           prior_question_elapsed_time prior_question_had_explanation  \n",
       "102                             5000.0                          False  \n",
       "104                            70000.0                          False  \n",
       "117                                NaN                          False  \n",
       "125                            30000.0                           True  \n",
       "127                            27000.0                           True  \n",
       "...                                ...                            ...  \n",
       "101230306                      15000.0                          False  \n",
       "101230315                      18000.0                           True  \n",
       "101230319                      26000.0                           True  \n",
       "101230326                      44000.0                           True  \n",
       "101230327                      18000.0                           True  \n",
       "\n",
       "[16990730 rows x 10 columns]"
      ]
     },
     "execution_count": 42,
     "metadata": {},
     "output_type": "execute_result"
    }
   ],
   "source": [
    "train_df[train_df['content_id'].isin(b)]"
   ]
  },
  {
   "cell_type": "code",
   "execution_count": 32,
   "metadata": {},
   "outputs": [
    {
     "data": {
      "text/plain": [
       "101230332"
      ]
     },
     "execution_count": 32,
     "metadata": {},
     "output_type": "execute_result"
    }
   ],
   "source": [
    "len(train_df)"
   ]
  },
  {
   "cell_type": "code",
   "execution_count": 38,
   "metadata": {},
   "outputs": [
    {
     "data": {
      "text/plain": [
       "array([ 6116,  6173,  4120, ..., 10008,  1484, 21169])"
      ]
     },
     "execution_count": 38,
     "metadata": {},
     "output_type": "execute_result"
    }
   ],
   "source": [
    "b"
   ]
  },
  {
   "cell_type": "code",
   "execution_count": 34,
   "metadata": {},
   "outputs": [
    {
     "data": {
      "text/plain": [
       "6116     213605\n",
       "6173     202106\n",
       "4120     199372\n",
       "175      195861\n",
       "7876     190170\n",
       "          ...  \n",
       "10006         1\n",
       "10007         1\n",
       "10008         1\n",
       "1484          1\n",
       "21169         1\n",
       "Name: content_id, Length: 13782, dtype: int64"
      ]
     },
     "execution_count": 34,
     "metadata": {},
     "output_type": "execute_result"
    }
   ],
   "source": [
    "a"
   ]
  },
  {
   "cell_type": "code",
   "execution_count": null,
   "metadata": {},
   "outputs": [],
   "source": []
  }
 ],
 "metadata": {
  "kernelspec": {
   "display_name": "rapids",
   "language": "python",
   "name": "miniconda3-latest"
  },
  "language_info": {
   "codemirror_mode": {
    "name": "ipython",
    "version": 3
   },
   "file_extension": ".py",
   "mimetype": "text/x-python",
   "name": "python",
   "nbconvert_exporter": "python",
   "pygments_lexer": "ipython3",
   "version": "3.7.7"
  }
 },
 "nbformat": 4,
 "nbformat_minor": 4
}
