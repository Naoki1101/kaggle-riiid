{
 "cells": [
  {
   "cell_type": "code",
   "execution_count": 1,
   "metadata": {},
   "outputs": [],
   "source": [
    "import gc\n",
    "import sys\n",
    "import glob\n",
    "import logging\n",
    "\n",
    "import optuna\n",
    "import numpy as np\n",
    "import pandas as pd\n",
    "from pathlib import Path\n",
    "import torch\n",
    "\n",
    "sys.path.append('../src')\n",
    "import const\n",
    "import factory\n",
    "from utils import DataHandler, seed_everything, reduce_mem_usage\n",
    "from trainer import NNTrainer\n",
    "\n",
    "import warnings\n",
    "warnings.filterwarnings('ignore')"
   ]
  },
  {
   "cell_type": "code",
   "execution_count": 2,
   "metadata": {},
   "outputs": [],
   "source": [
    "dh = DataHandler()"
   ]
  },
  {
   "cell_type": "code",
   "execution_count": 3,
   "metadata": {},
   "outputs": [],
   "source": [
    "cfg = dh.load('../configs/exp/tabnet_001.yml')\n",
    "device = \"cuda\" if torch.cuda.is_available() else \"cpu\"\n",
    "run_name = 'optuna_tabnet'"
   ]
  },
  {
   "cell_type": "code",
   "execution_count": 4,
   "metadata": {},
   "outputs": [],
   "source": [
    "features_params = dh.load(f'../configs/feature/{cfg.data.features.name}.yml')\n",
    "features = features_params.features"
   ]
  },
  {
   "cell_type": "code",
   "execution_count": 5,
   "metadata": {},
   "outputs": [],
   "source": [
    "logger_path = Path(f'../logs/{run_name}')\n",
    "\n",
    "seed_everything(cfg.common.seed)\n",
    "\n",
    "logger_path.mkdir(exist_ok=True)\n",
    "logging.basicConfig(filename=logger_path / 'train.log', level=logging.DEBUG)\n",
    "\n",
    "dh.save(logger_path / 'config.yml', cfg)"
   ]
  },
  {
   "cell_type": "code",
   "execution_count": 6,
   "metadata": {},
   "outputs": [],
   "source": [
    "train_x = dh.load('../data/team/X_tra_wo_lec_20M.feather')\n",
    "val_x = dh.load('../data/team/X_val_wo_lec.feather')\n",
    "\n",
    "train_x['is_val'] = 0\n",
    "val_x['is_val'] = 1\n",
    "\n",
    "train_x = pd.concat([train_x, val_x], axis=0, sort=False, ignore_index=True)\n",
    "train_y = train_x[const.TARGET_COLS[0]]\n",
    "\n",
    "use_row_id = train_x['row_id'].values\n",
    "val_idx = train_x[train_x['is_val'] == 1].index\n",
    "drop_cols = set(train_x.columns) - set(features + const.TARGET_COLS)\n",
    "train_x = train_x.drop(drop_cols, axis=1)"
   ]
  },
  {
   "cell_type": "code",
   "execution_count": 7,
   "metadata": {},
   "outputs": [
    {
     "data": {
      "text/plain": [
       "11"
      ]
     },
     "execution_count": 7,
     "metadata": {},
     "output_type": "execute_result"
    }
   ],
   "source": [
    "add_df = pd.DataFrame(index=train_x.index)\n",
    "\n",
    "additional_cols = set(features) - set(train_x.columns)\n",
    "for col in additional_cols:\n",
    "    feat_df = pd.read_feather(f'../features/{col}_train.feather')\n",
    "    add_df[col] = feat_df.loc[use_row_id, col].values\n",
    "\n",
    "add_df = reduce_mem_usage(add_df)\n",
    "train_x = pd.concat([train_x, add_df], axis=1)\n",
    "\n",
    "del add_df; gc.collect()"
   ]
  },
  {
   "cell_type": "code",
   "execution_count": 8,
   "metadata": {},
   "outputs": [],
   "source": [
    "for col in train_x.columns:\n",
    "    if col != const.TARGET_COLS[0]:\n",
    "        inf_idx = train_x[train_x[col] == np.inf].index.values\n",
    "\n",
    "        if len(inf_idx) > 0:\n",
    "            train_x.loc[inf_idx, col] = np.nan\n",
    "        null_count = train_x[col].isnull().sum()\n",
    "\n",
    "        if null_count > 0:\n",
    "            mean_ = train_x[col].mean()\n",
    "            train_x[col] = train_x[col].fillna(mean_)\n",
    "\n",
    "        train_x[col] = (train_x[col] - train_x[col].mean()) / train_x[col].std()"
   ]
  },
  {
   "cell_type": "code",
   "execution_count": 9,
   "metadata": {},
   "outputs": [],
   "source": [
    "fold_df = pd.DataFrame(index=range(len(train_x)))\n",
    "fold_df['fold_0'] = 0\n",
    "fold_df.loc[val_idx, 'fold_0'] += 1"
   ]
  },
  {
   "cell_type": "code",
   "execution_count": 10,
   "metadata": {},
   "outputs": [],
   "source": [
    "cfg.model.epochs = 1\n",
    "# cfg.data.train.loader.batch_size = 2048"
   ]
  },
  {
   "cell_type": "code",
   "execution_count": 11,
   "metadata": {},
   "outputs": [],
   "source": [
    "def objective(trial):\n",
    "#     lr = trial.suggest_loguniform('lr', 1e-3, 5e-2)\n",
    "    n_d = trial.suggest_int('n_d', 128, 256)\n",
    "    n_a = trial.suggest_int('n_a', 128, 256)\n",
    "#     factor = trial.suggest_loguniform('factor', 0.1, 0.9)\n",
    "    \n",
    "#     cfg.optimizer.params.lr = lr\n",
    "    cfg.model.params.n_d = n_d\n",
    "    cfg.model.params.n_a = n_a\n",
    "#     cfg.scheduler.params.factor = factor\n",
    "    \n",
    "    trainer = NNTrainer(run_name, fold_df, cfg)\n",
    "    cv = trainer.train(train_df=train_x, target_df=train_y)\n",
    "\n",
    "    return cv"
   ]
  },
  {
   "cell_type": "code",
   "execution_count": null,
   "metadata": {
    "scrolled": false
   },
   "outputs": [
    {
     "name": "stderr",
     "output_type": "stream",
     "text": [
      "\u001b[32m[I 2020-12-21 20:35:43,331]\u001b[0m A new study created in memory with name: no-name-1d3221fa-e48a-43ca-8e77-d50595404c4f\u001b[0m\n"
     ]
    },
    {
     "name": "stdout",
     "output_type": "stream",
     "text": [
      "\n",
      "========================== FOLD 1 / 1 ... ==========================\n",
      "\n",
      "█\r"
     ]
    },
    {
     "name": "stderr",
     "output_type": "stream",
     "text": [
      "\u001b[32m[I 2020-12-21 20:45:21,018]\u001b[0m Trial 0 finished with value: 0.7610108240629369 and parameters: {'n_d': 166, 'n_a': 178}. Best is trial 0 with value: 0.7610108240629369.\u001b[0m\n"
     ]
    },
    {
     "name": "stdout",
     "output_type": "stream",
     "text": [
      "Epoch 1 - avg_train_loss: 0.542419  avg_val_loss: 0.549337 val_score: 0.761011 time: 558s\n",
      "\n",
      "Epoch 1 - val_score: 0.761011\n",
      "\n",
      "\n",
      "===================================\n",
      "\n",
      "CV: 0.761011\n",
      "\n",
      "===================================\n",
      "\n",
      "\n",
      "\n",
      "========================== FOLD 1 / 1 ... ==========================\n",
      "\n"
     ]
    }
   ],
   "source": [
    "study = optuna.create_study(direction='maximize')\n",
    "study.optimize(objective, n_trials=10)   # n_trials, timeout"
   ]
  },
  {
   "cell_type": "markdown",
   "metadata": {},
   "source": [
    "[I 2020-12-21 20:15:24,048] Trial 0 finished with value: 0.762468262919172 and parameters: {'n_d': 17, 'n_a': 109}. Best is trial 0 with value: 0.762468262919172."
   ]
  },
  {
   "cell_type": "code",
   "execution_count": null,
   "metadata": {},
   "outputs": [],
   "source": []
  }
 ],
 "metadata": {
  "kernelspec": {
   "display_name": "rapids",
   "language": "python",
   "name": "miniconda3-latest"
  },
  "language_info": {
   "codemirror_mode": {
    "name": "ipython",
    "version": 3
   },
   "file_extension": ".py",
   "mimetype": "text/x-python",
   "name": "python",
   "nbconvert_exporter": "python",
   "pygments_lexer": "ipython3",
   "version": "3.7.7"
  }
 },
 "nbformat": 4,
 "nbformat_minor": 4
}
