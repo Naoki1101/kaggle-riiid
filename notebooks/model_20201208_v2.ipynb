{
 "cells": [
  {
   "cell_type": "code",
   "execution_count": 1,
   "metadata": {},
   "outputs": [],
   "source": [
    "import os\n",
    "import gc\n",
    "import sys\n",
    "import random\n",
    "\n",
    "import torch\n",
    "import pandas as pd\n",
    "import numpy as np\n",
    "from pathlib import Path\n",
    "from sklearn.metrics import roc_auc_score\n",
    "from sklearn.model_selection import StratifiedKFold\n",
    "from collections import defaultdict\n",
    "from tqdm.notebook import tqdm\n",
    "import lightgbm as lgb"
   ]
  },
  {
   "cell_type": "code",
   "execution_count": 2,
   "metadata": {},
   "outputs": [],
   "source": [
    "ver_dir = Path('./model_20201208_lightgbm_v2')\n",
    "ver_dir.mkdir(exist_ok=True)"
   ]
  },
  {
   "cell_type": "code",
   "execution_count": 3,
   "metadata": {},
   "outputs": [],
   "source": [
    "def seed_everything(seed=42):\n",
    "    random.seed(seed)\n",
    "    os.environ['PYTHONHASHSEED'] = str(seed)\n",
    "    np.random.seed(seed)\n",
    "    torch.manual_seed(seed)\n",
    "    torch.cuda.manual_seed(seed)\n",
    "    torch.backends.cudnn.deterministic = True\n",
    "    \n",
    "seed_everything(2020)"
   ]
  },
  {
   "cell_type": "code",
   "execution_count": 4,
   "metadata": {},
   "outputs": [],
   "source": [
    "train_pickle = '../folds/cv1_train.pickle'\n",
    "valid_pickle = '../folds/cv1_valid.pickle'\n",
    "question_file = '../data/input/questions.csv'\n",
    "debug = False\n",
    "validaten_flg = False"
   ]
  },
  {
   "cell_type": "code",
   "execution_count": 5,
   "metadata": {},
   "outputs": [],
   "source": [
    "def fast_left_merge(df1, df2, on):\n",
    "    df2.index = df2[on]\n",
    "\n",
    "    merged_df = pd.concat([\n",
    "        df1.reset_index(drop=True),\n",
    "        df2.reindex(df1[on].values).reset_index(drop=True).drop(on, axis=1)\n",
    "    ], axis=1)\n",
    "    \n",
    "    return merged_df"
   ]
  },
  {
   "cell_type": "code",
   "execution_count": 6,
   "metadata": {
    "scrolled": true
   },
   "outputs": [],
   "source": [
    "# funcs for user stats with loop\n",
    "def add_user_feats(df, answered_correctly_sum_u_dict, count_u_dict, prior_q_dict, attempt_c_dict, attempt_cb_dict):\n",
    "    acsu = np.zeros(len(df), dtype=np.int32)\n",
    "    cu = np.zeros(len(df), dtype=np.int32)\n",
    "    pcf = np.zeros(len(df), dtype=np.int32)\n",
    "    ac = np.zeros(len(df), dtype=np.int32)\n",
    "    acb = np.zeros(len(df), dtype=np.int32)\n",
    "\n",
    "    for cnt, row in enumerate(tqdm(df[['user_id', 'content_id', 'content_id_bin', 'answered_correctly']].values)):\n",
    "        acsu[cnt] = answered_correctly_sum_u_dict.setdefault(row[0], 0)\n",
    "        cu[cnt] = count_u_dict.setdefault(row[0], 0)\n",
    "        if row[1] == prior_q_dict.setdefault(row[0], -1):\n",
    "            pcf[cnt] = 1\n",
    "        else:\n",
    "            pcf[cnt] = 0\n",
    "            \n",
    "        ac[cnt] = attempt_c_dict.setdefault(row[0], {}).setdefault(row[1], 1)\n",
    "        acb[cnt] = attempt_cb_dict.setdefault(row[0], {}).setdefault(row[2], 1)\n",
    "\n",
    "        answered_correctly_sum_u_dict[row[0]] += row[3]\n",
    "        prior_q_dict[row[0]] = row[1]\n",
    "        count_u_dict[row[0]] += 1\n",
    "        attempt_c_dict[row[0]][row[1]] += 1\n",
    "        attempt_cb_dict[row[0]][row[2]] += 1\n",
    "\n",
    "    user_feats_df = pd.DataFrame({\n",
    "        'answered_correctly_sum_u':acsu,\n",
    "        'count_u':cu,\n",
    "        'equal_prior_question_flag': pcf,\n",
    "        'attempt_c': ac,\n",
    "        'attempt_cb': acb\n",
    "    })\n",
    "    user_feats_df['answered_correctly_avg_u'] = user_feats_df['answered_correctly_sum_u'] / user_feats_df['count_u']\n",
    "    df = pd.concat([df, user_feats_df], axis=1)\n",
    "    return df"
   ]
  },
  {
   "cell_type": "code",
   "execution_count": 7,
   "metadata": {},
   "outputs": [],
   "source": [
    "# read data\n",
    "feld_needed = [\n",
    "    'row_id', 'timestamp', 'user_id', 'content_id', 'content_type_id', 'answered_correctly',\n",
    "    'prior_question_elapsed_time', 'prior_question_had_explanation', 'task_container_id'\n",
    "]\n",
    "train = pd.read_pickle(train_pickle)[feld_needed]\n",
    "valid = pd.read_pickle(valid_pickle)[feld_needed]\n",
    "if debug:\n",
    "    train = train[:1_000_000]\n",
    "    valid = valid[:10_000]"
   ]
  },
  {
   "cell_type": "code",
   "execution_count": 8,
   "metadata": {},
   "outputs": [
    {
     "name": "stderr",
     "output_type": "stream",
     "text": [
      "/home/naoki/.pyenv/versions/miniconda3-latest/lib/python3.7/site-packages/sklearn/model_selection/_split.py:672: UserWarning: The least populated class in y has only 1 members, which is less than n_splits=2.\n",
      "  % (min_groups, self.n_splits)), UserWarning)\n"
     ]
    }
   ],
   "source": [
    "user_count_df = train['user_id'].value_counts().reset_index()\n",
    "user_count_df.columns = ['user_id', 'count_num']\n",
    "user_count_df['count_bin'] = pd.cut(user_count_df['count_num'], 200, labels=False)\n",
    "\n",
    "kfold = StratifiedKFold(n_splits=2, shuffle=True, random_state=2020)\n",
    "\n",
    "fold_df = pd.DataFrame(index=user_count_df.index)\n",
    "for fold_, (trn_idx, val_idx) in enumerate(kfold.split(user_count_df, user_count_df['count_bin'])):\n",
    "    fold_df[f'fold_{fold_}'] = 0\n",
    "    fold_df.loc[val_idx, f'fold_{fold_}'] += 1\n",
    "\n",
    "drop_train_users = user_count_df.loc[fold_df[fold_df['fold_0'] == 1].index, 'user_id'].values\n",
    "train = train[~train['user_id'].isin(drop_train_users)].reset_index(drop=True)"
   ]
  },
  {
   "cell_type": "code",
   "execution_count": 9,
   "metadata": {},
   "outputs": [],
   "source": [
    "count_c_each_answer = pd.crosstab(index=train['content_id'],\n",
    "                                                        columns=train['answered_correctly'])\n",
    "count_c_each_answer.columns = ['lecture', 'ans_false', 'ans_true']\n",
    "count_c_each_answer['rate_lecture'] = count_c_each_answer['lecture'] / count_c_each_answer.values.sum(axis=1)\n",
    "c2rl = dict(count_c_each_answer['rate_lecture'])\n",
    "\n",
    "train = train.loc[train.content_type_id == False].reset_index(drop=True)\n",
    "valid = valid.loc[valid.content_type_id == False].reset_index(drop=True)\n",
    "\n",
    "whole = pd.concat([train[['content_id']], valid[['content_id']]], axis=0)\n",
    "count_content_dict = whole['content_id'].value_counts()\n",
    "train['count_c'] = train['content_id'].map(count_content_dict)\n",
    "valid['count_c'] = valid['content_id'].map(count_content_dict)\n",
    "\n",
    "del whole; gc.collect()\n",
    "\n",
    "\n",
    "train['content_id_bin'] = train['content_id'] // 10\n",
    "valid['content_id_bin'] = valid['content_id'] // 10\n",
    "\n",
    "\n",
    "\n",
    "questions_df = pd.read_csv(question_file)[['question_id', 'part']]\n",
    "q2p = dict(questions_df.values)\n",
    "\n",
    "train['part'] = train['content_id'].map(q2p)\n",
    "valid['part'] = valid['content_id'].map(q2p)"
   ]
  },
  {
   "cell_type": "code",
   "execution_count": 10,
   "metadata": {
    "scrolled": true
   },
   "outputs": [
    {
     "data": {
      "application/vnd.jupyter.widget-view+json": {
       "model_id": "1b4db00d2dc44c498472909fcf74bdbb",
       "version_major": 2,
       "version_minor": 0
      },
      "text/plain": [
       "HBox(children=(HTML(value=''), FloatProgress(value=0.0, max=48412811.0), HTML(value='')))"
      ]
     },
     "metadata": {},
     "output_type": "display_data"
    },
    {
     "name": "stdout",
     "output_type": "stream",
     "text": [
      "\n"
     ]
    },
    {
     "data": {
      "application/vnd.jupyter.widget-view+json": {
       "model_id": "1e979146aaa3437ab0dc1e5ff04bbdb7",
       "version_major": 2,
       "version_minor": 0
      },
      "text/plain": [
       "HBox(children=(HTML(value=''), FloatProgress(value=0.0, max=2453886.0), HTML(value='')))"
      ]
     },
     "metadata": {},
     "output_type": "display_data"
    },
    {
     "name": "stdout",
     "output_type": "stream",
     "text": [
      "\n"
     ]
    }
   ],
   "source": [
    "# user stats features with loops\n",
    "answered_correctly_sum_u_dict = {}\n",
    "count_u_dict = {}\n",
    "prior_q_dict = {}\n",
    "attempt_c_dict = {}\n",
    "attempt_cb_dict = {}\n",
    "\n",
    "train = add_user_feats(train, answered_correctly_sum_u_dict, count_u_dict, prior_q_dict, attempt_c_dict, attempt_cb_dict)\n",
    "valid = add_user_feats(valid, answered_correctly_sum_u_dict, count_u_dict, prior_q_dict, attempt_c_dict, attempt_cb_dict)\n",
    "\n",
    "# fill with mean value for prior_question_elapsed_time\n",
    "# note that `train.prior_question_elapsed_time.mean()` dose not work!\n",
    "# please refer https://www.kaggle.com/its7171/can-we-trust-pandas-mean for detail.\n",
    "# prior_question_elapsed_time_mean = train.prior_question_elapsed_time.dropna().values.mean()\n",
    "# train['prior_question_elapsed_time_mean'] = train.prior_question_elapsed_time.fillna(prior_question_elapsed_time_mean)\n",
    "# valid['prior_question_elapsed_time_mean'] = valid.prior_question_elapsed_time.fillna(prior_question_elapsed_time_mean)\n",
    "\n",
    "# use only last 30M training data for limited memory on kaggle env.\n",
    "#train = train[-30000000:]\n",
    "\n",
    "# changing dtype to avoid lightgbm error\n",
    "train['prior_question_had_explanation'] = train.prior_question_had_explanation.fillna(False).astype('int8')\n",
    "valid['prior_question_had_explanation'] = valid.prior_question_had_explanation.fillna(False).astype('int8')"
   ]
  },
  {
   "cell_type": "code",
   "execution_count": 11,
   "metadata": {
    "scrolled": true
   },
   "outputs": [],
   "source": [
    "import sys\n",
    "from easydict import EasyDict as edict\n",
    "\n",
    "sys.path.append('../src')\n",
    "from factory import get_fold\n",
    "from make_features.feature_utils import TargetEncoding\n",
    "\n",
    "cfg = edict({\n",
    "    'name': 'KFold',\n",
    "    'params': {\n",
    "        'n_splits': 5,\n",
    "        'shuffle': True,\n",
    "        'random_state': 0,\n",
    "    },\n",
    "    'split': {\n",
    "        'y': 'user_id',\n",
    "        'groups': None\n",
    "    },\n",
    "    'weight': 'average'\n",
    "})\n",
    "\n",
    "\n",
    "fold_df = get_fold(cfg, train)\n",
    "\n",
    "train['content_id_and_attempt_c'] = train['content_id'].astype(str) + '_' + train['attempt_c'].apply(lambda x: x if x <= 3 else 3).astype(str)\n",
    "valid['content_id_and_attempt_c'] = valid['content_id'].astype(str) + '_' + valid['attempt_c'].apply(lambda x: x if x <= 3 else 3).astype(str)\n",
    "\n",
    "col = 'content_id_and_attempt_c'\n",
    "te = TargetEncoding(fold_df)\n",
    "train[f'te_{col}_by_answered_correctly'] = te.fit_transform(train[col], train['answered_correctly'])\n",
    "valid[f'te_{col}_by_answered_correctly'] = te.transform(valid[col])"
   ]
  },
  {
   "cell_type": "code",
   "execution_count": 12,
   "metadata": {
    "scrolled": true
   },
   "outputs": [],
   "source": [
    "TARGET = 'answered_correctly'\n",
    "FEATS = [\n",
    "    'answered_correctly_avg_u', 'answered_correctly_sum_u', 'count_u', 'equal_prior_question_flag',\n",
    "    'te_content_id_and_attempt_c_by_answered_correctly', 'part', 'prior_question_had_explanation', \n",
    "    'prior_question_elapsed_time', 'attempt_cb', 'user_id', 'content_id_bin'\n",
    "]\n",
    "dro_cols = list(set(train.columns) - set(FEATS))\n",
    "y_tr = train[TARGET]\n",
    "y_va = valid[TARGET]\n",
    "train.drop(dro_cols, axis=1, inplace=True)\n",
    "valid.drop(dro_cols, axis=1, inplace=True)\n",
    "_=gc.collect()"
   ]
  },
  {
   "cell_type": "code",
   "execution_count": 13,
   "metadata": {},
   "outputs": [],
   "source": [
    "nrows = 10_000_000\n",
    "\n",
    "lgb_train = lgb.Dataset(train[FEATS][:nrows], y_tr[:nrows])\n",
    "lgb_valid = lgb.Dataset(valid[FEATS], y_va)\n",
    "del train, y_tr\n",
    "_=gc.collect()"
   ]
  },
  {
   "cell_type": "code",
   "execution_count": 17,
   "metadata": {
    "scrolled": true
   },
   "outputs": [
    {
     "name": "stdout",
     "output_type": "stream",
     "text": [
      "Training until validation scores don't improve for 10 rounds\n",
      "[10]\ttraining's auc: 0.757884\tvalid_1's auc: 0.760721\n",
      "[20]\ttraining's auc: 0.759719\tvalid_1's auc: 0.762461\n",
      "[30]\ttraining's auc: 0.760313\tvalid_1's auc: 0.762863\n",
      "[40]\ttraining's auc: 0.760652\tvalid_1's auc: 0.763074\n",
      "[50]\ttraining's auc: 0.760917\tvalid_1's auc: 0.763192\n",
      "[60]\ttraining's auc: 0.761186\tvalid_1's auc: 0.763182\n",
      "Early stopping, best iteration is:\n",
      "[53]\ttraining's auc: 0.761018\tvalid_1's auc: 0.76328\n",
      "auc: 0.7632800817040404\n"
     ]
    },
    {
     "data": {
      "image/png": "[encoded data removed]",
      "text/plain": [
       "<Figure size 432x288 with 1 Axes>"
      ]
     },
     "metadata": {
      "needs_background": "light"
     },
     "output_type": "display_data"
    }
   ],
   "source": [
    "lgb_params = {\n",
    "    'boosting_type': 'gbdt',\n",
    "    'objective': 'binary',\n",
    "    'metric': 'auc',\n",
    "    'learning_rate': 0.3,\n",
    "#     'num_leaves': 32,\n",
    "#     'min_child_samples': 20,\n",
    "#     'feature_fraction': 0.8,\n",
    "#     'bagging_fraction': 0.3,\n",
    "#     'bagging_freq': 1,\n",
    "#     'bagging_seed': 11,\n",
    "#     'max_bin': 255,\n",
    "#     'verbose': -1,\n",
    "#     'nthread': -1,\n",
    "    'seed': 2020,\n",
    "#     'first_metric_only': True\n",
    "}\n",
    "\n",
    "model = lgb.train(\n",
    "                    lgb_params,\n",
    "                    lgb_train,\n",
    "                    valid_sets=[lgb_train, lgb_valid],\n",
    "                    verbose_eval=10,\n",
    "                    num_boost_round=100,\n",
    "                    early_stopping_rounds=10\n",
    "                )\n",
    "print('auc:', roc_auc_score(y_va, model.predict(valid[FEATS])))\n",
    "_ = lgb.plot_importance(model)"
   ]
  },
  {
   "cell_type": "code",
   "execution_count": 15,
   "metadata": {},
   "outputs": [],
   "source": [
    "# 0.7639343485978306"
   ]
  },
  {
   "cell_type": "code",
   "execution_count": 16,
   "metadata": {
    "scrolled": true
   },
   "outputs": [
    {
     "ename": "KeyboardInterrupt",
     "evalue": "",
     "output_type": "error",
     "traceback": [
      "\u001b[0;31m---------------------------------------------------------------------------\u001b[0m",
      "\u001b[0;31mKeyboardInterrupt\u001b[0m                         Traceback (most recent call last)",
      "\u001b[0;32m<ipython-input-16-1280bbcd20e8>\u001b[0m in \u001b[0;36m<module>\u001b[0;34m()\u001b[0m\n\u001b[1;32m     20\u001b[0m \u001b[0;31m#     save_pickle(count_c_each_u_dict, 'count_c_each_u_dict.pkl')\u001b[0m\u001b[0;34m\u001b[0m\u001b[0;34m\u001b[0m\u001b[0;34m\u001b[0m\u001b[0m\n\u001b[1;32m     21\u001b[0m     \u001b[0msave_pickle\u001b[0m\u001b[0;34m(\u001b[0m\u001b[0mprior_q_dict\u001b[0m\u001b[0;34m,\u001b[0m \u001b[0mver_dir\u001b[0m \u001b[0;34m/\u001b[0m \u001b[0;34m'prior_q_dict.pkl'\u001b[0m\u001b[0;34m)\u001b[0m\u001b[0;34m\u001b[0m\u001b[0;34m\u001b[0m\u001b[0m\n\u001b[0;32m---> 22\u001b[0;31m     \u001b[0msave_pickle\u001b[0m\u001b[0;34m(\u001b[0m\u001b[0mattempt_c_dict\u001b[0m\u001b[0;34m,\u001b[0m \u001b[0mver_dir\u001b[0m \u001b[0;34m/\u001b[0m \u001b[0;34m'attempt_c_dict.pkl'\u001b[0m\u001b[0;34m)\u001b[0m\u001b[0;34m\u001b[0m\u001b[0;34m\u001b[0m\u001b[0m\n\u001b[0m\u001b[1;32m     23\u001b[0m     \u001b[0msave_pickle\u001b[0m\u001b[0;34m(\u001b[0m\u001b[0mattempt_cb_dict\u001b[0m\u001b[0;34m,\u001b[0m \u001b[0mver_dir\u001b[0m \u001b[0;34m/\u001b[0m \u001b[0;34m'attempt_cb_dict.pkl'\u001b[0m\u001b[0;34m)\u001b[0m\u001b[0;34m\u001b[0m\u001b[0;34m\u001b[0m\u001b[0m\n\u001b[1;32m     24\u001b[0m     \u001b[0msave_pickle\u001b[0m\u001b[0;34m(\u001b[0m\u001b[0mte\u001b[0m\u001b[0;34m.\u001b[0m\u001b[0mencoder\u001b[0m\u001b[0;34m,\u001b[0m \u001b[0mver_dir\u001b[0m \u001b[0;34m/\u001b[0m \u001b[0;34m'te_encoder.pkl'\u001b[0m\u001b[0;34m)\u001b[0m\u001b[0;34m\u001b[0m\u001b[0;34m\u001b[0m\u001b[0m\n",
      "\u001b[0;32m<ipython-input-16-1280bbcd20e8>\u001b[0m in \u001b[0;36msave_pickle\u001b[0;34m(obj, f_name)\u001b[0m\n\u001b[1;32m      3\u001b[0m \u001b[0;32mdef\u001b[0m \u001b[0msave_pickle\u001b[0m\u001b[0;34m(\u001b[0m\u001b[0mobj\u001b[0m\u001b[0;34m,\u001b[0m \u001b[0mf_name\u001b[0m\u001b[0;34m)\u001b[0m\u001b[0;34m:\u001b[0m\u001b[0;34m\u001b[0m\u001b[0;34m\u001b[0m\u001b[0m\n\u001b[1;32m      4\u001b[0m     \u001b[0;32mwith\u001b[0m \u001b[0mopen\u001b[0m\u001b[0;34m(\u001b[0m\u001b[0mf_name\u001b[0m\u001b[0;34m,\u001b[0m \u001b[0;34m'wb'\u001b[0m\u001b[0;34m)\u001b[0m \u001b[0;32mas\u001b[0m \u001b[0mf\u001b[0m\u001b[0;34m:\u001b[0m\u001b[0;34m\u001b[0m\u001b[0;34m\u001b[0m\u001b[0m\n\u001b[0;32m----> 5\u001b[0;31m         \u001b[0mpickle\u001b[0m\u001b[0;34m.\u001b[0m\u001b[0mdump\u001b[0m\u001b[0;34m(\u001b[0m\u001b[0mobj\u001b[0m\u001b[0;34m,\u001b[0m \u001b[0mf\u001b[0m\u001b[0;34m)\u001b[0m\u001b[0;34m\u001b[0m\u001b[0;34m\u001b[0m\u001b[0m\n\u001b[0m\u001b[1;32m      6\u001b[0m \u001b[0;34m\u001b[0m\u001b[0m\n\u001b[1;32m      7\u001b[0m \u001b[0;32mif\u001b[0m \u001b[0mdebug\u001b[0m\u001b[0;34m:\u001b[0m\u001b[0;34m\u001b[0m\u001b[0;34m\u001b[0m\u001b[0m\n",
      "\u001b[0;31mKeyboardInterrupt\u001b[0m: "
     ]
    }
   ],
   "source": [
    "import pickle\n",
    "\n",
    "def save_pickle(obj, f_name):\n",
    "    with open(f_name, 'wb') as f:\n",
    "        pickle.dump(obj, f)\n",
    "\n",
    "if debug:\n",
    "    save_pickle(model, ver_dir / f'{str(ver_dir)}.pkl')\n",
    "    save_pickle(answered_correctly_sum_u_dict, ver_dir / 'debug_answered_correctly_sum_u_dict.pkl')\n",
    "    save_pickle(count_u_dict, ver_dir / 'debug_count_u_dict.pkl')\n",
    "#     save_pickle(count_c_each_u_dict, 'debug_count_c_each_u_dict.pkl')\n",
    "    save_pickle(prior_q_dict, ver_dir / 'debug_prior_q_dict.pkl')\n",
    "    save_pickle(attempt_c_dict, ver_dir / 'debug_attempt_c_dict.pkl')\n",
    "    save_pickle(attempt_cb_dict, ver_dir / 'debug_attempt_cb_dict.pkl')\n",
    "    save_pickle(te.encoder, ver_dir / 'debug_te_encoder.pkl')\n",
    "else:\n",
    "    save_pickle(model, ver_dir / f'{str(ver_dir)}.pkl')\n",
    "    save_pickle(answered_correctly_sum_u_dict, ver_dir / 'answered_correctly_sum_u_dict.pkl')\n",
    "    save_pickle(count_u_dict, ver_dir / 'count_u_dict.pkl')\n",
    "#     save_pickle(count_c_each_u_dict, 'count_c_each_u_dict.pkl')\n",
    "    save_pickle(prior_q_dict, ver_dir / 'prior_q_dict.pkl')\n",
    "    save_pickle(attempt_c_dict, ver_dir / 'attempt_c_dict.pkl')\n",
    "    save_pickle(attempt_cb_dict, ver_dir / 'attempt_cb_dict.pkl')\n",
    "    save_pickle(te.encoder, ver_dir / 'te_encoder.pkl')"
   ]
  },
  {
   "cell_type": "code",
   "execution_count": null,
   "metadata": {},
   "outputs": [],
   "source": []
  }
 ],
 "metadata": {
  "kernelspec": {
   "display_name": "rapids",
   "language": "python",
   "name": "miniconda3-latest"
  },
  "language_info": {
   "codemirror_mode": {
    "name": "ipython",
    "version": 3
   },
   "file_extension": ".py",
   "mimetype": "text/x-python",
   "name": "python",
   "nbconvert_exporter": "python",
   "pygments_lexer": "ipython3",
   "version": "3.7.7"
  }
 },
 "nbformat": 4,
 "nbformat_minor": 4
}
