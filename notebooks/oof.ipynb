{
 "cells": [
  {
   "cell_type": "code",
   "execution_count": 33,
   "metadata": {},
   "outputs": [],
   "source": [
    "import gc\n",
    "import sys\n",
    "\n",
    "import numpy as np\n",
    "import pandas as pd\n",
    "from pathlib import Path\n",
    "from sklearn.metrics import roc_auc_score\n",
    "\n",
    "sys.path.append('../src')\n",
    "import const\n",
    "\n",
    "%matplotlib inline\n",
    "import matplotlib.pyplot as plt"
   ]
  },
  {
   "cell_type": "code",
   "execution_count": 30,
   "metadata": {},
   "outputs": [],
   "source": [
    "log_dir = Path('../logs/catboost_029_20201218163010_0.792/')\n",
    "oof = np.load(log_dir / 'oof.npy')\n",
    "\n",
    "drop_idx = np.load('../data/processed/lecture_idx.npy')\n",
    "val_idx = np.load('../data/processed/cv1_valid.npy')"
   ]
  },
  {
   "cell_type": "code",
   "execution_count": 31,
   "metadata": {},
   "outputs": [
    {
     "data": {
      "text/plain": [
       "116"
      ]
     },
     "execution_count": 31,
     "metadata": {},
     "output_type": "execute_result"
    }
   ],
   "source": [
    "train_df = pd.read_csv('../data/input/train.csv', dtype=const.DTYPE)\n",
    "\n",
    "train_df['is_val'] = 0\n",
    "train_df.loc[val_idx, 'is_val'] = 1\n",
    "\n",
    "train_df = train_df.drop(drop_idx).reset_index(drop=True)\n",
    "train_df['oof'] = oof\n",
    "\n",
    "val_df = train_df[train_df['is_val'] == 1].reset_index(drop=True)\n",
    "del train_df; gc.collect()"
   ]
  },
  {
   "cell_type": "code",
   "execution_count": 34,
   "metadata": {},
   "outputs": [
    {
     "data": {
      "text/plain": [
       "0.7916789742164484"
      ]
     },
     "execution_count": 34,
     "metadata": {},
     "output_type": "execute_result"
    }
   ],
   "source": [
    "roc_auc_score(val_df['answered_correctly'], val_df['oof'])"
   ]
  },
  {
   "cell_type": "markdown",
   "metadata": {},
   "source": [
    "### part"
   ]
  },
  {
   "cell_type": "code",
   "execution_count": 35,
   "metadata": {},
   "outputs": [],
   "source": [
    "questions_df = pd.read_csv('../data/input/questions.csv')\n",
    "q2p = dict(questions_df[['question_id', 'part']].values)\n",
    "val_df['part'] = val_df['content_id'].map(q2p)"
   ]
  },
  {
   "cell_type": "code",
   "execution_count": 40,
   "metadata": {},
   "outputs": [
    {
     "name": "stdout",
     "output_type": "stream",
     "text": [
      "part1 AUC: 0.8201\n",
      "part2 AUC: 0.7686\n",
      "part3 AUC: 0.8080\n",
      "part4 AUC: 0.8228\n",
      "part5 AUC: 0.7698\n",
      "part6 AUC: 0.7973\n",
      "part7 AUC: 0.8142\n"
     ]
    }
   ],
   "source": [
    "part_gp = val_df.groupby('part')\n",
    "\n",
    "for part, part_df in part_gp:\n",
    "    score = roc_auc_score(part_df['answered_correctly'], part_df['oof'])\n",
    "    print(f'part{part} AUC: {score:.4f}')"
   ]
  },
  {
   "cell_type": "code",
   "execution_count": 43,
   "metadata": {},
   "outputs": [
    {
     "data": {
      "text/plain": [
       "604800000"
      ]
     },
     "execution_count": 43,
     "metadata": {},
     "output_type": "execute_result"
    }
   ],
   "source": [
    "60 * 60 * 24 * 7 * 1000"
   ]
  },
  {
   "cell_type": "code",
   "execution_count": null,
   "metadata": {},
   "outputs": [],
   "source": []
  }
 ],
 "metadata": {
  "kernelspec": {
   "display_name": "python3.7.2",
   "language": "python",
   "name": "python3.7.2"
  },
  "language_info": {
   "codemirror_mode": {
    "name": "ipython",
    "version": 3
   },
   "file_extension": ".py",
   "mimetype": "text/x-python",
   "name": "python",
   "nbconvert_exporter": "python",
   "pygments_lexer": "ipython3",
   "version": "3.7.2"
  }
 },
 "nbformat": 4,
 "nbformat_minor": 4
}
