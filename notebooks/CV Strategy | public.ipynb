{
 "cells": [
  {
   "cell_type": "markdown",
   "metadata": {},
   "source": [
    "https://www.kaggle.com/its7171/cv-strategy"
   ]
  },
  {
   "cell_type": "code",
   "execution_count": 1,
   "metadata": {},
   "outputs": [],
   "source": [
    "import pandas as pd\n",
    "import random\n",
    "import gc\n",
    "\n",
    "random.seed(1)\n",
    "\n",
    "import sys\n",
    "sys.path.append('../src')\n",
    "import const"
   ]
  },
  {
   "cell_type": "code",
   "execution_count": 2,
   "metadata": {},
   "outputs": [],
   "source": [
    "train = pd.read_csv(const.INPUT_DATA_DIR / 'train.csv',dtype=const.DTYPE)"
   ]
  },
  {
   "cell_type": "code",
   "execution_count": 3,
   "metadata": {},
   "outputs": [
    {
     "name": "stdout",
     "output_type": "stream",
     "text": [
      "0.660 0.541\n"
     ]
    }
   ],
   "source": [
    "valid_split1 = train.groupby('user_id').tail(5)\n",
    "train_split1 = train[~train.row_id.isin(valid_split1.row_id)]\n",
    "valid_split1 = valid_split1[valid_split1.content_type_id == 0]\n",
    "train_split1 = train_split1[train_split1.content_type_id == 0]\n",
    "print(f'{train_split1.answered_correctly.mean():.3f} {valid_split1.answered_correctly.mean():.3f}')"
   ]
  },
  {
   "cell_type": "code",
   "execution_count": 4,
   "metadata": {},
   "outputs": [],
   "source": [
    "max_timestamp_u = train[['user_id','timestamp']].groupby(['user_id']).agg(['max']).reset_index()\n",
    "max_timestamp_u.columns = ['user_id', 'max_time_stamp']\n",
    "MAX_TIME_STAMP = max_timestamp_u.max_time_stamp.max()"
   ]
  },
  {
   "cell_type": "code",
   "execution_count": 5,
   "metadata": {},
   "outputs": [],
   "source": [
    "def rand_time(max_time_stamp):\n",
    "    interval = MAX_TIME_STAMP - max_time_stamp\n",
    "    rand_time_stamp = random.randint(0,interval)\n",
    "    return rand_time_stamp\n",
    "\n",
    "max_timestamp_u['rand_time_stamp'] = max_timestamp_u.max_time_stamp.apply(rand_time)\n",
    "train = train.merge(max_timestamp_u, on='user_id', how='left')\n",
    "train['viretual_time_stamp'] = train.timestamp + train['rand_time_stamp']"
   ]
  },
  {
   "cell_type": "code",
   "execution_count": 6,
   "metadata": {},
   "outputs": [],
   "source": [
    "kaggle_env = False\n",
    "if kaggle_env:\n",
    "    # Full dataframe can not be sorted on kaggle kernel due to lack of memory.\n",
    "    train = train[:10_000_000]\n",
    "train = train.sort_values(['viretual_time_stamp', 'row_id']).reset_index(drop=True)"
   ]
  },
  {
   "cell_type": "code",
   "execution_count": 7,
   "metadata": {},
   "outputs": [],
   "source": [
    "if kaggle_env:\n",
    "    val_size = 250_000\n",
    "else:\n",
    "    val_size = 2_500_000\n",
    "\n",
    "for cv in range(5):\n",
    "    valid = train[-val_size:]\n",
    "    train = train[:-val_size]\n",
    "    # check new users and new contents\n",
    "    new_users = len(valid[~valid.user_id.isin(train.user_id)].user_id.unique())\n",
    "    valid_question = valid[valid.content_type_id == 0]\n",
    "    train_question = train[train.content_type_id == 0]\n",
    "    new_contents = len(valid_question[~valid_question.content_id.isin(train_question.content_id)].content_id.unique())    \n",
    "#     print(f'cv{cv} {train_question.answered_correctly.mean():.3f} {valid_question.answered_correctly.mean():.3f} {new_users} {new_contents}')\n",
    "    valid.to_pickle(f'../folds/cv{cv+1}_valid.pickle')\n",
    "    train.to_pickle(f'../folds/cv{cv+1}_train.pickle')"
   ]
  },
  {
   "cell_type": "code",
   "execution_count": null,
   "metadata": {},
   "outputs": [],
   "source": []
  }
 ],
 "metadata": {
  "kernelspec": {
   "display_name": "rapids",
   "language": "python",
   "name": "miniconda3-latest"
  },
  "language_info": {
   "codemirror_mode": {
    "name": "ipython",
    "version": 3
   },
   "file_extension": ".py",
   "mimetype": "text/x-python",
   "name": "python",
   "nbconvert_exporter": "python",
   "pygments_lexer": "ipython3",
   "version": "3.7.7"
  }
 },
 "nbformat": 4,
 "nbformat_minor": 4
}
