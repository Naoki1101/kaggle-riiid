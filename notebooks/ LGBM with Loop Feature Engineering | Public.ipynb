{
 "cells": [
  {
   "cell_type": "code",
   "execution_count": 20,
   "metadata": {},
   "outputs": [],
   "source": [
    "import pandas as pd\n",
    "import numpy as np\n",
    "import gc\n",
    "from sklearn.metrics import roc_auc_score\n",
    "from collections import defaultdict\n",
    "from tqdm.notebook import tqdm\n",
    "import lightgbm as lgb"
   ]
  },
  {
   "cell_type": "code",
   "execution_count": 21,
   "metadata": {},
   "outputs": [],
   "source": [
    "train_pickle = '../folds/cv1_train.pickle'\n",
    "valid_pickle = '../folds/cv1_valid.pickle'\n",
    "question_file = '../data/input/questions.csv'\n",
    "debug = True\n",
    "validaten_flg = False"
   ]
  },
  {
   "cell_type": "code",
   "execution_count": 22,
   "metadata": {},
   "outputs": [],
   "source": [
    "def fast_left_merge(df1, df2, on):\n",
    "    df2.index = df2[on]\n",
    "\n",
    "    merged_df = pd.concat([\n",
    "        df1.reset_index(drop=True),\n",
    "        df2.reindex(df1[on].values).reset_index(drop=True).drop(on, axis=1)\n",
    "    ], axis=1)\n",
    "    \n",
    "    return merged_df"
   ]
  },
  {
   "cell_type": "code",
   "execution_count": 23,
   "metadata": {},
   "outputs": [],
   "source": [
    "# funcs for user stats with loop\n",
    "def add_user_feats(df, answered_correctly_sum_u_dict, count_u_dict):\n",
    "    acsu = np.zeros(len(df), dtype=np.int32)\n",
    "    cu = np.zeros(len(df), dtype=np.int32)\n",
    "    for cnt, row in enumerate(df[['user_id','answered_correctly']].values):\n",
    "        acsu[cnt] = answered_correctly_sum_u_dict[row[0]]\n",
    "        cu[cnt] = count_u_dict[row[0]]\n",
    "        answered_correctly_sum_u_dict[row[0]] += row[1]\n",
    "        count_u_dict[row[0]] += 1\n",
    "    user_feats_df = pd.DataFrame({'answered_correctly_sum_u':acsu, 'count_u':cu})\n",
    "    user_feats_df['answered_correctly_avg_u'] = user_feats_df['answered_correctly_sum_u'] / user_feats_df['count_u']\n",
    "    df = pd.concat([df, user_feats_df], axis=1)\n",
    "    return df\n",
    "\n",
    "def add_user_feats_without_update(df, answered_correctly_sum_u_dict, count_u_dict):\n",
    "    acsu = np.zeros(len(df), dtype=np.int32)\n",
    "    cu = np.zeros(len(df), dtype=np.int32)\n",
    "    for cnt,row in enumerate(df[['user_id']].values):\n",
    "        acsu[cnt] = answered_correctly_sum_u_dict[row[0]]\n",
    "        cu[cnt] = count_u_dict[row[0]]\n",
    "    user_feats_df = pd.DataFrame({'answered_correctly_sum_u':acsu, 'count_u':cu})\n",
    "    user_feats_df['answered_correctly_avg_u'] = user_feats_df['answered_correctly_sum_u'] / user_feats_df['count_u']\n",
    "    df = pd.concat([df, user_feats_df], axis=1)\n",
    "    return df\n",
    "\n",
    "def update_user_feats(df, answered_correctly_sum_u_dict, count_u_dict):\n",
    "    for row in df[['user_id','answered_correctly','content_type_id']].values:\n",
    "        if row[2] == 0:\n",
    "            answered_correctly_sum_u_dict[row[0]] += row[1]\n",
    "            count_u_dict[row[0]] += 1"
   ]
  },
  {
   "cell_type": "code",
   "execution_count": 25,
   "metadata": {},
   "outputs": [],
   "source": [
    "feld_needed = [\n",
    "    'row_id', 'user_id', 'content_id', 'content_type_id', 'answered_correctly', 'prior_question_elapsed_time', 'prior_question_had_explanation'\n",
    "]\n",
    "train = pd.read_pickle(train_pickle)[feld_needed]\n",
    "valid = pd.read_pickle(valid_pickle)[feld_needed]\n",
    "if debug:\n",
    "    train = train[:1_000_000]\n",
    "    valid = valid[:10_000]\n",
    "\n",
    "train = train.loc[train.content_type_id == False].reset_index(drop=True)\n",
    "valid = valid.loc[valid.content_type_id == False].reset_index(drop=True)\n",
    "\n",
    "\n",
    "# answered correctly average for each content\n",
    "content_df = train[['content_id','answered_correctly']].groupby(['content_id']).agg(['mean']).reset_index()\n",
    "content_df.columns = ['content_id', 'answered_correctly_avg_c']\n",
    "train = fast_left_merge(train, content_df, on='content_id')\n",
    "valid = fast_left_merge(valid, content_df, on='content_id')\n",
    "\n",
    "\n",
    "# user stats features with loops\n",
    "answered_correctly_sum_u_dict = defaultdict(int)\n",
    "count_u_dict = defaultdict(int)\n",
    "train = add_user_feats(train, answered_correctly_sum_u_dict, count_u_dict)\n",
    "valid = add_user_feats(valid, answered_correctly_sum_u_dict, count_u_dict)\n",
    "\n",
    "\n",
    "# part\n",
    "questions_df = pd.read_csv(question_file)[['question_id', 'part']]\n",
    "questions_df.rename(columns={'question_id': 'content_id'}, inplace=True)\n",
    "train = fast_left_merge(train, questions_df, on='content_id')\n",
    "valid = fast_left_merge(valid, questions_df, on='content_id')\n",
    "\n",
    "\n",
    "# changing dtype to avoid lightgbm error\n",
    "train['prior_question_had_explanation'] = train.prior_question_had_explanation.fillna(False).astype('int8')\n",
    "valid['prior_question_had_explanation'] = valid.prior_question_had_explanation.fillna(False).astype('int8')"
   ]
  },
  {
   "cell_type": "code",
   "execution_count": null,
   "metadata": {},
   "outputs": [],
   "source": []
  }
 ],
 "metadata": {
  "kernelspec": {
   "display_name": "rapids",
   "language": "python",
   "name": "miniconda3-latest"
  },
  "language_info": {
   "codemirror_mode": {
    "name": "ipython",
    "version": 3
   },
   "file_extension": ".py",
   "mimetype": "text/x-python",
   "name": "python",
   "nbconvert_exporter": "python",
   "pygments_lexer": "ipython3",
   "version": "3.7.7"
  }
 },
 "nbformat": 4,
 "nbformat_minor": 4
}
